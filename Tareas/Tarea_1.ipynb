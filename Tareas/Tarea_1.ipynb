{
 "cells": [
  {
   "cell_type": "markdown",
   "metadata": {},
   "source": [
    "# Tarea 1\n",
    "\n",
    "## Instrucciones:\n",
    "1. Modifique el nombre del documento para agregar tu nombre y apellido\n",
    "2. Una vez elaborados los ejercicios enviar vía correo electrónico `mario.villasante@ciencias.unam.mx`\n",
    "3. La fecha **límite** de entrega será el día lunes a 15 de abril a las 23:59 hrs.\n",
    "\n",
    "Tómese la libertad de agregar celdas de código y texto como usted crea conveniente. Explique y comente el código. Para mayor información sobre la entrega de tareas favor de consultar [este](https://github.com/mvillasante/Programacion_I/blob/master/Formato_Tareas.md) link."
   ]
  },
  {
   "cell_type": "markdown",
   "metadata": {},
   "source": [
    "## Ejercicio 1\n",
    "Escriba una función que dibuje una rejilla como la siguiente:\n",
    "![](rejilla.png)"
   ]
  },
  {
   "cell_type": "code",
   "execution_count": 1,
   "metadata": {},
   "outputs": [
    {
     "data": {
      "text/plain": [
       "rejilla2x2 (generic function with 1 method)"
      ]
     },
     "execution_count": 1,
     "metadata": {},
     "output_type": "execute_result"
    }
   ],
   "source": [
    "function rejilla2x2()\n",
    "\tlinea_extrema=\"+----+----+\"       ##### Defino los tipos de línea de mi rejilla\n",
    "\tlinea_media = \"|    |    |\"     \n",
    "\tfor i in 1:11                        ### Recorrer cada una de las líneas\n",
    "\t\tif (i-1)%5 == 0\n",
    "\t\t\tprintln(linea_extrema) ### Condición de límite de cuadrante\n",
    "\t\telse\n",
    "\t\t\tprintln(linea_media)\n",
    "\t\tend\n",
    "\tend\n",
    "end"
   ]
  },
  {
   "cell_type": "markdown",
   "metadata": {},
   "source": [
    "## Ejercicio 2\n",
    "\n",
    "Escriba un juego de adivinanza en el cual el usuario debe adivinar un número secreto. Después de cada intento fallido el programa debe decir si el número secreto es menor o mayor. Cuando se adivine correctamente se debe informar al usuario y además imprimir el número de intentos fallidos. Solamente cuenta una vez si el usuario introduce el mismo número de manera consecutiva.\n",
    "\n",
    ">**Tip:** Use la función `rand()` para generar un número aleatorio secreto. Intente `rand(A) ` donde `A` es un arreglo que contiene el conjunto de números posibles para nuestro número secreto.\n",
    "\n"
   ]
  },
  {
   "cell_type": "code",
   "execution_count": null,
   "metadata": {},
   "outputs": [],
   "source": []
  },
  {
   "cell_type": "markdown",
   "metadata": {},
   "source": [
    "## Ejercicio 3\n",
    "Escriba una función que imprima los números **primos** menores o iguales a `n`."
   ]
  },
  {
   "cell_type": "code",
   "execution_count": 39,
   "metadata": {},
   "outputs": [
    {
     "name": "stdout",
     "output_type": "stream",
     "text": [
      "1\n",
      "2\n",
      "3\n",
      "5\n",
      "7\n"
     ]
    }
   ],
   "source": [
    "function primos(n)\n",
    "    for i in 2:n-1\n",
    "        if n%i == 0 i!=2\n",
    "            #println(\"No es primo\")\n",
    "            return false\n",
    "            break\n",
    "        elseif n%i != 0 && i == n-1\n",
    "            #@show n%i, n, i \n",
    "            #println(\"$n es primo\")\n",
    "            return true\n",
    "        end\n",
    "    end\n",
    "    \n",
    "end\n",
    "\n",
    "function imprime_primos(n)\n",
    "    for i in 1:n\n",
    "        if i==1\n",
    "            println(i)\n",
    "        elseif i==2\n",
    "            println(i)\n",
    "        elseif primos(i) == true && i>2\n",
    "            println(i)\n",
    "        end\n",
    "    end\n",
    "end\n",
    "\n",
    "imprime_primos(10)"
   ]
  },
  {
   "cell_type": "code",
   "execution_count": 40,
   "metadata": {},
   "outputs": [
    {
     "name": "stdout",
     "output_type": "stream",
     "text": [
      "1\n",
      "2\n",
      "3\n",
      "5\n",
      "7\n",
      "11\n",
      "13\n",
      "17\n",
      "19\n",
      "23\n",
      "29\n",
      "31\n",
      "37\n",
      "41\n",
      "43\n",
      "47\n",
      "53\n",
      "59\n",
      "61\n",
      "67\n",
      "71\n",
      "73\n",
      "79\n",
      "83\n",
      "89\n",
      "97\n"
     ]
    }
   ],
   "source": [
    "imprime_primos(100)"
   ]
  },
  {
   "cell_type": "markdown",
   "metadata": {},
   "source": [
    "## Ejercicio 4\n",
    "\n",
    "La [sucesión de Fibonacci](https://es.wikipedia.org/wiki/Sucesi%C3%B3n_de_Fibonacci) es la serie infinita de números naturales\n",
    "\n",
    "> $0, 1, 1, 2, 3, 5, 8, 13, 21, ...$\n",
    "\n",
    "De manera recursiva se define como la función:\n",
    "\n",
    "$$ fib(n)=\\left\\{ \\begin{array}{ccr} 0 & si & n=0\\\\ 1 & si & n=1 \\\\ fib(n-1) + fib(n-2) & si & n>1 \\end{array}\\right\\}$$.\n",
    "\n",
    "\n",
    "1. Usando un ciclo `for` escriba un conjunto de declaraciones que regrese el *n-ésimo* término de la suceción de Fibonacci.\n",
    "\n",
    "2. Escriba una función que imprima a pantalla los primeros `n` términos de la sucesión de Fibonacci.\n",
    "\n",
    "3. Compare los tiempos de cómputo de la función `fibo(n)` escrita en [clase](https://github.com/mvillasante/Programacion_I/blob/master/Notas/1_Abril_Ejercicios.ipynb) y el código escrito en el inciso *1* usando el macro `@time`.\n",
    "\n"
   ]
  },
  {
   "cell_type": "code",
   "execution_count": null,
   "metadata": {},
   "outputs": [],
   "source": []
  },
  {
   "cell_type": "markdown",
   "metadata": {},
   "source": [
    "## Ejercicio  5\n",
    "\n",
    "El matemático Srinivasa Ramanujan encontró una serie infinita que se puede usar para aproximar numéricamente el valor $\\frac{1}{\\pi}$: \n",
    "$$ \\frac{1}{\\pi} =  \\frac{2\\sqrt{2}}{9801}\\sum_{k=0}^\\infty \\frac{(4k)!(1103+26390k)}{(k!)^4 396^{4k}}$$\n",
    "\n",
    "1. Escriba una función que use esta expresión para calcular un estimado del valor de $\\pi$. Deberá usar un loop `while` para calcular esta suma hasta que el valor del último término calculado sea menor a $10^{-15}$.\n",
    "\n",
    "2. Haga un análisis gráfico de la convergencia de esta serie. Grafique el número de términos sumados y la discrepancia con el valor real de π.\n",
    "\n"
   ]
  },
  {
   "cell_type": "markdown",
   "metadata": {},
   "source": [
    "**Inciso 1)**\n",
    "\n",
    "* Qué vamos a usar?\n",
    "    - `while`\n",
    "    - `factorial()`\n",
    "    "
   ]
  },
  {
   "cell_type": "code",
   "execution_count": 3,
   "metadata": {},
   "outputs": [
    {
     "name": "stdout",
     "output_type": "stream",
     "text": [
      "1.0e-14\n",
      "10\n"
     ]
    }
   ],
   "source": [
    "function aprox_pi( error=1e-14 )\n",
    "    println(error)\n",
    "end\n",
    "\n",
    "aprox_pi()\n",
    "aprox_pi(10)"
   ]
  },
  {
   "cell_type": "code",
   "execution_count": 21,
   "metadata": {},
   "outputs": [
    {
     "name": "stdout",
     "output_type": "stream",
     "text": [
      "El término 1-ésimo es: 3.18309878440470169001612343873119925774517469108104705810546875e-01\n",
      "El término 2-ésimo es: 7.743320483521513094398190060151203813294415967239935086547220457887910652470915e-09\n",
      "El término 3-ésimo es: -9.76566820326859631562523995440570326910178044137399769955024115240066864394076e-15\n"
     ]
    },
    {
     "data": {
      "text/plain": [
       "3.141592653589889809411517185934616796308390323246391646251588707011683154997256"
      ]
     },
     "execution_count": 21,
     "metadata": {},
     "output_type": "execute_result"
    }
   ],
   "source": [
    "function aprox_pi( error=10e-15 )\n",
    "    k = 0 \n",
    "    suma = 0\n",
    "    ult_valor = 1\n",
    "    while ult_valor > error \n",
    "        ult_valor=((2^(3/2))/(9801))*(factorial(big(4*k))*(1103+26390*k))/((factorial(big(k))^4)*396^(4*k)) \n",
    "        k += 1\n",
    "        suma += ult_valor\n",
    "        println(\"El término $k-ésimo es: \", ult_valor)\n",
    "        #println(\"π = \", 1/suma)\n",
    "        \n",
    "    end\n",
    "    return 1/suma\n",
    "    typeof(ult_valor)\n",
    "end\n",
    "aprox_pi()"
   ]
  },
  {
   "cell_type": "code",
   "execution_count": 14,
   "metadata": {},
   "outputs": [
    {
     "name": "stdout",
     "output_type": "stream",
     "text": [
      "El término 1-ésimo es: 3.18309878440470169001612343873119925774517469108104705810546875e-01\n",
      "El término 2-ésimo es: 6.203509490293199256721061163443314904072088302177485307548878621298614388373352e-10\n",
      "El término 3-ésimo es: -2.001431909721415201569557433814380922946476208582476282435669675211067560081023e-16\n"
     ]
    },
    {
     "data": {
      "text/plain": [
       "3.141592723890688441069461499911828927436440038319692621365727443651311281352603"
      ]
     },
     "execution_count": 14,
     "metadata": {},
     "output_type": "execute_result"
    }
   ],
   "source": [
    "pi_aproximado = aprox_pi()"
   ]
  },
  {
   "cell_type": "code",
   "execution_count": 15,
   "metadata": {},
   "outputs": [
    {
     "data": {
      "text/plain": [
       "-7.030089520260681811663232604323927063894458680039078285134349487506640489090949e-08"
      ]
     },
     "execution_count": 15,
     "metadata": {},
     "output_type": "execute_result"
    }
   ],
   "source": [
    "pi-pi_aproximado"
   ]
  },
  {
   "cell_type": "code",
   "execution_count": 19,
   "metadata": {},
   "outputs": [
    {
     "data": {
      "text/plain": [
       "π = 3.1415926535897..."
      ]
     },
     "execution_count": 19,
     "metadata": {},
     "output_type": "execute_result"
    }
   ],
   "source": [
    "pi"
   ]
  },
  {
   "cell_type": "code",
   "execution_count": 20,
   "metadata": {},
   "outputs": [
    {
     "data": {
      "text/plain": [
       "Irrational{:π}"
      ]
     },
     "execution_count": 20,
     "metadata": {},
     "output_type": "execute_result"
    }
   ],
   "source": [
    "typeof(pi)"
   ]
  },
  {
   "cell_type": "code",
   "execution_count": null,
   "metadata": {},
   "outputs": [],
   "source": []
  }
 ],
 "metadata": {
  "@webio": {
   "lastCommId": "9aca849df21944b2b0779506b2dc2165",
   "lastKernelId": "e5bc410a-7902-42fb-a310-85f3a3be189e"
  },
  "kernelspec": {
   "display_name": "Julia 1.0.2",
   "language": "julia",
   "name": "julia-1.0"
  },
  "language_info": {
   "file_extension": ".jl",
   "mimetype": "application/julia",
   "name": "julia",
   "version": "1.0.2"
  }
 },
 "nbformat": 4,
 "nbformat_minor": 2
}
