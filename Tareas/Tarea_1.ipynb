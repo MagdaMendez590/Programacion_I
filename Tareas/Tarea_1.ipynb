{
 "cells": [
  {
   "cell_type": "markdown",
   "metadata": {},
   "source": [
    "# Tarea 1\n",
    "\n",
    "## Instrucciones:\n",
    "1. Modifique el nombre del documento para agregar tu nombre y apellido\n",
    "2. Una vez elaborados los ejercicios enviar vía correo electrónico `mario.villasante@ciencias.unam.mx`\n",
    "3. La fecha **límite** de entrega será el día lunes a 15 de abril a las 23:59 hrs.\n",
    "\n",
    "Tómese la libertad de agregar celdas de código y texto como usted crea conveniente. Explique y comente el código. Para mayor información sobre la entrega de tareas favor de consultar [este](https://github.com/mvillasante/Programacion_I/blob/master/Formato_Tareas.md) link."
   ]
  },
  {
   "cell_type": "markdown",
   "metadata": {},
   "source": [
    "## Ejercicio 1\n",
    "Escriba una función que dibuje una rejilla como la siguiente:\n",
    "![](Tareas/rejilla.png)"
   ]
  },
  {
   "cell_type": "code",
   "execution_count": null,
   "metadata": {},
   "outputs": [],
   "source": []
  },
  {
   "cell_type": "markdown",
   "metadata": {},
   "source": [
    "## Ejercicio 2\n",
    "\n",
    "Escriba un juego de adivinanza en el cual el usuario debe adivinar un número secreto. Después de cada intento fallido el programa debe decir si el número secreto es menor o mayor. Cuando se adivine correctamente se debe informar al usuario y además imprimir el número de intentos fallidos. Solamente cuenta una vez si el usuario introduce el mismo número de manera consecutiva.\n",
    "\n",
    ">**Tip:** Use la función `rand()` para generar un número aleatorio secreto. Intente `rand(A) ` donde `A` es un arreglo que contiene el conjunto de números posibles para nuestro número secreto.\n",
    "\n"
   ]
  },
  {
   "cell_type": "code",
   "execution_count": null,
   "metadata": {},
   "outputs": [],
   "source": []
  },
  {
   "cell_type": "markdown",
   "metadata": {},
   "source": [
    "## Ejercicio 3\n",
    "Escriba una función que imprima los números menores o iguales a `n`."
   ]
  },
  {
   "cell_type": "code",
   "execution_count": null,
   "metadata": {},
   "outputs": [],
   "source": []
  },
  {
   "cell_type": "markdown",
   "metadata": {},
   "source": [
    "## Ejercicio 4\n",
    "\n",
    "La [sucesión de Fibonacci](https://es.wikipedia.org/wiki/Sucesi%C3%B3n_de_Fibonacci) es la serie infinita de números naturales\n",
    "\n",
    "> $0, 1, 1, 2, 3, 5, 8, 13, 21, ...$\n",
    "\n",
    "De manera recursiva se define como la función:\n",
    "\n",
    "$$ fib(n)=\\left\\{ \\begin{array}{ccr} 0 & si & n=0\\\\ 1 & si & n=1 \\\\ fib(n-1) + fib(n-2) & si & n>1 \\end{array}\\right\\}$$.\n",
    "\n",
    "\n",
    "1. Usando un ciclo `for` escriba un conjunto de declaraciones que regrese el *n-ésimo* término de la suceción de Fibonacci.\n",
    "\n",
    "2. Escriba una función que imprima a pantalla los primeros `n` términos de la sucesión de Fibonacci.\n",
    "\n",
    "3. Compare los tiempos de cómputo de la función `fibo(n)` escrita en [clase](https://github.com/mvillasante/Programacion_I/blob/master/Notas/1_Abril_Ejercicios.ipynb) y el código escrito en el inciso *1* usando el macro `@time`.\n",
    "\n"
   ]
  },
  {
   "cell_type": "code",
   "execution_count": null,
   "metadata": {},
   "outputs": [],
   "source": []
  },
  {
   "cell_type": "markdown",
   "metadata": {},
   "source": [
    "## Ejercicio  5\n",
    "\n",
    "El matemático Srinivasa Ramanujan encontró una serie infinita que se puede usar para aproximar numéricamente el valor $\\frac{1}{\\pi}$: \n",
    "$$ \\frac{1}{\\pi} =  \\frac{2\\sqrt{2}}{9801}\\sum_{k=0}^\\infty \\frac{(4k)!(1103+26390k)}{(k!)^4 396^{4k}}$$\n",
    "\n",
    "1. Escriba una función que use esta expresión para calcular un estimado del valor de $\\pi$. Deberá usar un loop `while` para calcular esta suma hasta que el valor del último término calculado sea menor a $10^{-15}$.\n",
    "\n",
    "2. Haga un análisis gráfico de la convergencia de esta serie. Grafique el número de términos sumados y la discrepancia con el valor real de π.\n",
    "\n"
   ]
  },
  {
   "cell_type": "code",
   "execution_count": null,
   "metadata": {},
   "outputs": [],
   "source": []
  }
 ],
 "metadata": {
  "@webio": {
   "lastCommId": "f2b941014e60487e8c52017e7533a0f3",
   "lastKernelId": "f7395b15-4ea0-4494-ad3f-2e282df25084"
  },
  "kernelspec": {
   "display_name": "Julia 1.0.2",
   "language": "julia",
   "name": "julia-1.0"
  },
  "language_info": {
   "file_extension": ".jl",
   "mimetype": "application/julia",
   "name": "julia",
   "version": "1.0.2"
  }
 },
 "nbformat": 4,
 "nbformat_minor": 2
}
