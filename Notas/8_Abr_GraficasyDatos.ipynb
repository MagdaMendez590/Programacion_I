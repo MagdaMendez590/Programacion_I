{
 "cells": [
  {
   "cell_type": "markdown",
   "metadata": {},
   "source": [
    "# Graficación\n",
    "\n",
    "Una de las tareas fundamentales del cómputo científico es el manejar datos de todo tipo: leerlos de un archivo, o crearlos en una simulación; escribirlos a un archivo; visualizarlos, para extraer su mensaje; etc.\n",
    "\n",
    "En este notebook veremos las herramientas básicas para graficar.\n",
    "\n",
    "\n",
    "\n",
    "## Vectores = Arreglos 1D\n",
    "\n",
    "En una computadora, la graficación debe ser discreta; es decir, debemos evaluar una función en un conjunto finito de puntos. Para hacer esto vamos a usar un nuevo tipo de variable llamada `Array`.\n",
    "\n",
    "Un arreglo uni-dimensional es un vector, o una lista, o una secuencia, o un conjunto (ordenado) de datos. Se puede visualizar como una pichonera con cajas consecutivas, en las cuales se pueden guardar datos."
   ]
  },
  {
   "cell_type": "markdown",
   "metadata": {},
   "source": [
    "## Construcción por extensión"
   ]
  },
  {
   "cell_type": "code",
   "execution_count": 12,
   "metadata": {},
   "outputs": [
    {
     "data": {
      "text/plain": [
       "3-element Array{Int64,1}:\n",
       " 1\n",
       " 3\n",
       " 4"
      ]
     },
     "execution_count": 12,
     "metadata": {},
     "output_type": "execute_result"
    }
   ],
   "source": [
    "[1,3,4]"
   ]
  },
  {
   "cell_type": "code",
   "execution_count": 5,
   "metadata": {},
   "outputs": [
    {
     "data": {
      "text/plain": [
       "f (generic function with 1 method)"
      ]
     },
     "execution_count": 5,
     "metadata": {},
     "output_type": "execute_result"
    }
   ],
   "source": [
    "f(x) = x.^2"
   ]
  },
  {
   "cell_type": "code",
   "execution_count": 6,
   "metadata": {},
   "outputs": [
    {
     "data": {
      "text/plain": [
       "3-element Array{Int64,1}:\n",
       "   1\n",
       " 529\n",
       "  16"
      ]
     },
     "execution_count": 6,
     "metadata": {},
     "output_type": "execute_result"
    }
   ],
   "source": [
    "f([1,23,4])"
   ]
  },
  {
   "cell_type": "markdown",
   "metadata": {},
   "source": [
    "## Construcción por comprensión\n",
    "\n",
    "Julia tiene una sintaxis poderosa para crear arreglos: arreglos por comprensión (o \"secuenciación\"), que corresponde a la notación matemática bonita para especifar conjuntos. Por ejemplo, el conjunto de los cuadrados de los primeros diez enteros se escribe como sigue. Si notamos por $A := \\{ 1, 2, \\ldots, 10 \\}$ los números de 1 a 10, entonces el conjunto $C$ de sus cuadrados es\n",
    "\n",
    "$$C := \\{ x^2 : x \\in A \\}$$\n",
    "\n",
    "En Julia, ¡podemos escribir algo similar!\n"
   ]
  },
  {
   "cell_type": "code",
   "execution_count": 8,
   "metadata": {
    "collapsed": true
   },
   "outputs": [
    {
     "data": {
      "text/plain": [
       "100-element Array{Int64,1}:\n",
       "   1\n",
       "   2\n",
       "   3\n",
       "   4\n",
       "   5\n",
       "   6\n",
       "   7\n",
       "   8\n",
       "   9\n",
       "  10\n",
       "  11\n",
       "  12\n",
       "  13\n",
       "   ⋮\n",
       "  89\n",
       "  90\n",
       "  91\n",
       "  92\n",
       "  93\n",
       "  94\n",
       "  95\n",
       "  96\n",
       "  97\n",
       "  98\n",
       "  99\n",
       " 100"
      ]
     },
     "execution_count": 8,
     "metadata": {},
     "output_type": "execute_result"
    }
   ],
   "source": [
    "xes=[i for i in 1:100]"
   ]
  },
  {
   "cell_type": "code",
   "execution_count": 9,
   "metadata": {
    "collapsed": true
   },
   "outputs": [
    {
     "data": {
      "text/plain": [
       "100-element Array{Int64,1}:\n",
       "     1\n",
       "     4\n",
       "     9\n",
       "    16\n",
       "    25\n",
       "    36\n",
       "    49\n",
       "    64\n",
       "    81\n",
       "   100\n",
       "   121\n",
       "   144\n",
       "   169\n",
       "     ⋮\n",
       "  7921\n",
       "  8100\n",
       "  8281\n",
       "  8464\n",
       "  8649\n",
       "  8836\n",
       "  9025\n",
       "  9216\n",
       "  9409\n",
       "  9604\n",
       "  9801\n",
       " 10000"
      ]
     },
     "execution_count": 9,
     "metadata": {},
     "output_type": "execute_result"
    }
   ],
   "source": [
    "f(xes)"
   ]
  },
  {
   "cell_type": "markdown",
   "metadata": {},
   "source": [
    "Recuerda que \"for\" quiere decir \"para\", e \"in\" quiere decir \"en\". En Julia, los corchetes (\\[ y \\]) construyen arreglos. Por lo tanto, podemos leer esto como \"el arreglo de $i^2$ para $i$ en el conjunto `1:100`\", o \"la colección \\[ordenada\\] de los cuadrados de los elementos de A\"."
   ]
  },
  {
   "cell_type": "code",
   "execution_count": 11,
   "metadata": {},
   "outputs": [
    {
     "data": {
      "text/plain": [
       "10-element Array{Int64,1}:\n",
       "   1\n",
       "   4\n",
       "   9\n",
       "  16\n",
       "  25\n",
       "  36\n",
       "  49\n",
       "  64\n",
       "  81\n",
       " 100"
      ]
     },
     "execution_count": 11,
     "metadata": {},
     "output_type": "execute_result"
    }
   ],
   "source": [
    "cuadrados=[i*i for i in 1:10]"
   ]
  },
  {
   "cell_type": "markdown",
   "metadata": {},
   "source": [
    "Podemos poner un `if` al final de la comprensión para incluir sólo ciertos valores que satisfagan cierta condición, e.g.\n",
    "\n",
    "Vamos a hacer un arreglo de múltiplos de 3."
   ]
  },
  {
   "cell_type": "code",
   "execution_count": 45,
   "metadata": {},
   "outputs": [
    {
     "data": {
      "text/plain": [
       "10-element Array{Int64,1}:\n",
       "  3\n",
       "  6\n",
       "  9\n",
       " 12\n",
       " 15\n",
       " 18\n",
       " 21\n",
       " 24\n",
       " 27\n",
       " 30"
      ]
     },
     "execution_count": 45,
     "metadata": {},
     "output_type": "execute_result"
    }
   ],
   "source": [
    "[i for i in 1:30 if i%3 == 0]"
   ]
  },
  {
   "cell_type": "markdown",
   "metadata": {},
   "source": [
    "## Ejercicio \n",
    "\n",
    "1. Crea una lista de los números de 1 al 100 que sean múltiplos de 3 o 5. \\[\"O\" se escribe como `||`.\\]\n"
   ]
  },
  {
   "cell_type": "code",
   "execution_count": null,
   "metadata": {},
   "outputs": [],
   "source": []
  },
  {
   "cell_type": "markdown",
   "metadata": {},
   "source": [
    "2. Calcula su suma. ¿Cómo puedes verificar que la suma está bien? (utilice la función `sum()`)"
   ]
  },
  {
   "cell_type": "code",
   "execution_count": null,
   "metadata": {},
   "outputs": [],
   "source": []
  },
  {
   "cell_type": "markdown",
   "metadata": {},
   "source": [
    "# Graficación\n",
    "\n",
    "\n",
    "Ahora somos capaces de producir datos interesantes, pero rápidamente llegamos a un momento en el cual ya no se pueden apreciar por ser tantos. La mejor solución es la visualización, es decir, graficarlos.\n",
    "\n",
    "Hay varios paquetes (librerías / bibliotecas) gráficos en Julia: \n",
    "* Plots.jl\n",
    "* PyPlot.jl\n",
    "* GR.jl\n",
    "\n",
    "\n",
    "Para utilizar un paquete, es necesario primero instalarlo, es decir, jalar el código del paquete a tu computadora. Esto es necesario hacer una sola vez en cada instalación de Julia:\n",
    "\n"
   ]
  },
  {
   "cell_type": "code",
   "execution_count": 1,
   "metadata": {},
   "outputs": [],
   "source": [
    "using Plots\n",
    "\n",
    "##Si tienen errores al escribir el codigo de arriba usen:\n",
    "# 1. Carguen la librería  using Pkg\n",
    "# Pkg.add(\"Plots\")  \n",
    "# using Plots"
   ]
  },
  {
   "cell_type": "markdown",
   "metadata": {},
   "source": [
    "Si tienen errores al escribir el código de arriba procendan como sigue:\n",
    "1. Carguen la librería *Pkg*: `using Pkg`\n",
    "2. Instalen la librería *Plots.jl*: `Pkg.add(\"Plots\")`\n",
    "3. Carguen la librería: `using Plots`"
   ]
  },
  {
   "cell_type": "code",
   "execution_count": 4,
   "metadata": {},
   "outputs": [
    {
     "data": {
      "text/plain": [
       "Plots.GRBackend()"
      ]
     },
     "execution_count": 4,
     "metadata": {},
     "output_type": "execute_result"
    }
   ],
   "source": [
    "gr() ## o pyplot()"
   ]
  },
  {
   "cell_type": "markdown",
   "metadata": {},
   "source": [
    "## Ejercicio\n",
    "\n",
    "1. Define un paso $\\delta x$ chico, y crea un arreglo xx con números igualmente espaciados de -3 a 3. \\[Pista: agrega otros \":$\\delta x$:\" al rango.\\]\n"
   ]
  },
  {
   "cell_type": "code",
   "execution_count": null,
   "metadata": {},
   "outputs": [],
   "source": []
  },
  {
   "cell_type": "markdown",
   "metadata": {},
   "source": [
    "2. Define una función $f$ que acepta $x$ y calcula $3x^2 - 2$. Utiliza $f$ para crear un arreglo yy de los resultados de evaluar $f$ para cada $x$ en el rango xx.\n"
   ]
  },
  {
   "cell_type": "code",
   "execution_count": null,
   "metadata": {},
   "outputs": [],
   "source": []
  },
  {
   "cell_type": "markdown",
   "metadata": {},
   "source": [
    "3. Utiliza la función plot de Plots para graficar la función. Acepta dos argumentos, un arreglo con las coordenadas $x$ y otro con las coordenadas $y$."
   ]
  },
  {
   "cell_type": "code",
   "execution_count": null,
   "metadata": {},
   "outputs": [],
   "source": []
  },
  {
   "cell_type": "markdown",
   "metadata": {},
   "source": [
    "4. Utiliza la ayuda de la función [?plot o help(plot)] y en la documentación del paquete u otro lado para cambiar el estilo de la gráfica para utilizar líneas rojas y puntos verdes."
   ]
  },
  {
   "cell_type": "code",
   "execution_count": null,
   "metadata": {},
   "outputs": [],
   "source": []
  },
  {
   "cell_type": "markdown",
   "metadata": {},
   "source": [
    "5. Busca cómo agregar etiquetas a los ejes (lo cual debe hacerse en cualquier gráfica) y un título global, así como una leyenda."
   ]
  },
  {
   "cell_type": "code",
   "execution_count": null,
   "metadata": {},
   "outputs": [],
   "source": []
  },
  {
   "cell_type": "markdown",
   "metadata": {},
   "source": [
    "# Tiro parabólico\n",
    "\n",
    "1. Haz una función que calcula la trayectoria de una partícula en tiro parabólico en 2 dimensiones con una posición $(x, y)$ y velocidad $(u, v)$ iniciales dadas. Utiliza las fórmulas analíticas conocidas para ello."
   ]
  },
  {
   "cell_type": "markdown",
   "metadata": {},
   "source": [
    "2. Haz otra función con el mismo nombre que acepta sólo tres argumentos: $x$, $y$ y el ángulo inicial $\\theta$. Puedes suponer una rapidez de $10$."
   ]
  },
  {
   "cell_type": "markdown",
   "metadata": {},
   "source": [
    "3. Grafica distintas trayectorias con la misma posición pero distintos ángulos iniciales. Arregla tu gráfica para que sólo muestra la parte hasta que la partícula caiga al suelo."
   ]
  },
  {
   "cell_type": "code",
   "execution_count": null,
   "metadata": {},
   "outputs": [],
   "source": []
  },
  {
   "cell_type": "markdown",
   "metadata": {},
   "source": [
    "4. Comprueba gráficamente para cuál ángulo se tiene el máximo alcance."
   ]
  },
  {
   "cell_type": "code",
   "execution_count": null,
   "metadata": {},
   "outputs": [],
   "source": []
  },
  {
   "cell_type": "markdown",
   "metadata": {},
   "source": [
    "\n",
    "## Backends\n",
    "\n",
    "`Plots.jl` es un paquete que nos permite realizar gráficas en distintos estilos predeterminados, que se denominan **backends**. Hay aunque hay muchos backends, hay algunos que debemos destacar:\n",
    "\n",
    "1. GR Backend default de Plots. Rápido, simple y elegante, e installado por default con Plots.jl\n",
    "2. PlotlyJS Backend creado sobre la librería de Javascript [Plotly](https://plot.ly/javascript/line-and-scatter/). Crea gráficas interactivas. Debe de ser installado por su cuenta utilizando Pkg.add(\"PlotlyJS\").\n",
    "3. PyPlot Backend creado sobre la librería de Python [Matplotlib](https://matplotlib.org/tutorials/introductory/sample_plots.html). Debe de ser installado por su cuenta utilizando Pkg.add(\"PyPlot\").\n",
    "\n",
    "Para declarar que Backend queremos usar, simplemente debemos de escribir una línea con el nombre del backend en minúsculas y paréntesis al final, como si fuera una función sin argumentos:"
   ]
  },
  {
   "cell_type": "code",
   "execution_count": null,
   "metadata": {},
   "outputs": [],
   "source": [
    "gr() ## Para usar el backend"
   ]
  },
  {
   "cell_type": "markdown",
   "metadata": {},
   "source": [
    "Ahora veremos como dibujar puntos (o datos). Para esto usaremos `scatter()`. La differencia entre ellas es que `plot` dibuja una línea entre cada par de puntos subsecuentes y `scatter` solo dibuja circulos sobre dichos puntos."
   ]
  },
  {
   "cell_type": "code",
   "execution_count": null,
   "metadata": {},
   "outputs": [],
   "source": [
    "a = 5.537; b = 0.0305; Tc= 647.1; # pc= 220.6; Vc=0.05\n",
    "p(v) = R*Tc/2 ./ (v .- b) .- a ./ v.^big(2)"
   ]
  },
  {
   "cell_type": "markdown",
   "metadata": {},
   "source": [
    "\n",
    "Para `scatter`, podemos seleccionar que tipo de figura queremos que se grafique en cada punto utilizando el argumento marker o m. El argumento puede tomar todos los siguientes valores:\n",
    "\n",
    "* :circle\n",
    "* :rect\n",
    "* :star5\n",
    "* :diamond\n",
    "* :hexagon\n",
    "* :cross\n",
    "* :xcross\n",
    "* :utriangle\n",
    "* :dtriangle\n",
    "* :rtriangle\n",
    "* :ltriangle\n",
    "* :pentagon\n",
    "* :heptagon\n",
    "* :octagon\n",
    "* :star4\n",
    "* :star6\n",
    "* :star7\n",
    "* :star8\n",
    "* :vline\n",
    "* :hline\n",
    "\n",
    "Debemos mencionar que aunque estas son todas las opciones por default de Plots, no todas son compatibles con los Backends. GR si soporta todas las opciones. [Aquí](http://docs.juliaplots.org/latest/supported/) podrás ver que atributos soporta cada backend.\n",
    "\n",
    "Para modificar el grueso de la línea entre los puntos en plot, hay que usar el argumento adicional lw o linewidth. Para cambiar el tamaño de las esferas en scatter, utilizamos el argumento ms o  markersize"
   ]
  },
  {
   "cell_type": "code",
   "execution_count": null,
   "metadata": {},
   "outputs": [],
   "source": []
  },
  {
   "cell_type": "markdown",
   "metadata": {},
   "source": [
    "\n",
    "Para plot, podemos añadir una figura sobre los puntos utilizando el argumento marker o m y las opciones mencionadas previamente, y también cambiar el estilo de línea utilizando el argumento linestyle o ls. Existen las siguientes opciones:\n",
    "\n",
    "* :solid\n",
    "* :dash\n",
    "* :dot\n",
    "* :dashdot\n",
    "* :dashdotdot"
   ]
  },
  {
   "cell_type": "code",
   "execution_count": null,
   "metadata": {},
   "outputs": [],
   "source": []
  },
  {
   "cell_type": "markdown",
   "metadata": {},
   "source": [
    "# Calculando $\\pi$"
   ]
  },
  {
   "cell_type": "markdown",
   "metadata": {},
   "source": [
    "\n",
    "También podemos hacer cálculos útiles, por ejemplo podemos calcular el valor de $\\pi$. Hay literalmente miles de maneras de hacer esto. Una de ellas (muy lejos de ser la mejor) es a través de la siguiente fórmula:\n",
    "\n",
    "$$\\sum_{n=1}^\\infty \\frac{1}{n^2} = \\frac{\\pi^2}{6}.$$"
   ]
  },
  {
   "cell_type": "markdown",
   "metadata": {},
   "source": [
    "1. Fija una $N$ y calcula $\\pi$ utilizando una suma hasta $N$. Haz de esto una función que se llama mi_π."
   ]
  },
  {
   "cell_type": "code",
   "execution_count": null,
   "metadata": {},
   "outputs": [],
   "source": []
  },
  {
   "cell_type": "markdown",
   "metadata": {},
   "source": [
    "2. Ahora repite el cálculo para valores diferentes de $N$ y almacénalos, utilizando únicamente lo que hemos visto en este notebook."
   ]
  },
  {
   "cell_type": "code",
   "execution_count": null,
   "metadata": {},
   "outputs": [],
   "source": []
  },
  {
   "cell_type": "markdown",
   "metadata": {},
   "source": [
    "3. Grafica el resultado para los distintos valores de $N$, como función de $N$. ¿Qué observas? ¿Qué puedes agregar a tu gráfica para mostralo?"
   ]
  },
  {
   "cell_type": "code",
   "execution_count": null,
   "metadata": {},
   "outputs": [],
   "source": []
  },
  {
   "cell_type": "markdown",
   "metadata": {},
   "source": [
    "4. ¿Cómo podrías ver qué tan rápidamente converge la suma cuando $N \\to \\infty$? Hazlo."
   ]
  },
  {
   "cell_type": "code",
   "execution_count": null,
   "metadata": {},
   "outputs": [],
   "source": []
  },
  {
   "cell_type": "markdown",
   "metadata": {},
   "source": [
    "## Operaciones con arreglos"
   ]
  },
  {
   "cell_type": "code",
   "execution_count": 14,
   "metadata": {},
   "outputs": [
    {
     "data": {
      "text/plain": [
       "10-element Array{Int64,1}:\n",
       "   2\n",
       "   8\n",
       "  18\n",
       "  32\n",
       "  50\n",
       "  72\n",
       "  98\n",
       " 128\n",
       " 162\n",
       " 200"
      ]
     },
     "execution_count": 14,
     "metadata": {},
     "output_type": "execute_result"
    }
   ],
   "source": [
    "cuadrados + cuadrados"
   ]
  },
  {
   "cell_type": "code",
   "execution_count": 15,
   "metadata": {},
   "outputs": [
    {
     "ename": "MethodError",
     "evalue": "MethodError: no method matching +(::Array{Int64,1}, ::Int64)\nClosest candidates are:\n  +(::Any, ::Any, !Matched::Any, !Matched::Any...) at operators.jl:502\n  +(!Matched::Complex{Bool}, ::Real) at complex.jl:292\n  +(!Matched::Missing, ::Number) at missing.jl:93\n  ...",
     "output_type": "error",
     "traceback": [
      "MethodError: no method matching +(::Array{Int64,1}, ::Int64)\nClosest candidates are:\n  +(::Any, ::Any, !Matched::Any, !Matched::Any...) at operators.jl:502\n  +(!Matched::Complex{Bool}, ::Real) at complex.jl:292\n  +(!Matched::Missing, ::Number) at missing.jl:93\n  ...",
      "",
      "Stacktrace:",
      " [1] top-level scope at In[15]:1"
     ]
    }
   ],
   "source": [
    "cuadrados + 1"
   ]
  },
  {
   "cell_type": "code",
   "execution_count": 16,
   "metadata": {},
   "outputs": [
    {
     "data": {
      "text/plain": [
       "10-element Array{Int64,1}:\n",
       "   2\n",
       "   5\n",
       "  10\n",
       "  17\n",
       "  26\n",
       "  37\n",
       "  50\n",
       "  65\n",
       "  82\n",
       " 101"
      ]
     },
     "execution_count": 16,
     "metadata": {},
     "output_type": "execute_result"
    }
   ],
   "source": [
    "cuadrados .+ 1"
   ]
  },
  {
   "cell_type": "code",
   "execution_count": 17,
   "metadata": {},
   "outputs": [
    {
     "data": {
      "text/plain": [
       "10-element Array{Int64,1}:\n",
       "   2\n",
       "   8\n",
       "  18\n",
       "  32\n",
       "  50\n",
       "  72\n",
       "  98\n",
       " 128\n",
       " 162\n",
       " 200"
      ]
     },
     "execution_count": 17,
     "metadata": {},
     "output_type": "execute_result"
    }
   ],
   "source": [
    "cuadrados*2"
   ]
  },
  {
   "cell_type": "code",
   "execution_count": 18,
   "metadata": {},
   "outputs": [
    {
     "data": {
      "text/plain": [
       "10-element Array{Float64,1}:\n",
       "  0.3333333333333333\n",
       "  1.3333333333333333\n",
       "  3.0               \n",
       "  5.333333333333333 \n",
       "  8.333333333333334 \n",
       " 12.0               \n",
       " 16.333333333333332 \n",
       " 21.333333333333332 \n",
       " 27.0               \n",
       " 33.333333333333336 "
      ]
     },
     "execution_count": 18,
     "metadata": {},
     "output_type": "execute_result"
    }
   ],
   "source": [
    "cuadrados/3"
   ]
  },
  {
   "cell_type": "code",
   "execution_count": 20,
   "metadata": {},
   "outputs": [
    {
     "data": {
      "text/plain": [
       "10-element Array{Int64,1}:\n",
       "     1\n",
       "    16\n",
       "    81\n",
       "   256\n",
       "   625\n",
       "  1296\n",
       "  2401\n",
       "  4096\n",
       "  6561\n",
       " 10000"
      ]
     },
     "execution_count": 20,
     "metadata": {},
     "output_type": "execute_result"
    }
   ],
   "source": [
    "cuadrados.^2"
   ]
  },
  {
   "cell_type": "code",
   "execution_count": 24,
   "metadata": {},
   "outputs": [
    {
     "data": {
      "text/plain": [
       "25"
      ]
     },
     "execution_count": 24,
     "metadata": {},
     "output_type": "execute_result"
    }
   ],
   "source": [
    "cuadrados[5]"
   ]
  },
  {
   "cell_type": "code",
   "execution_count": 25,
   "metadata": {},
   "outputs": [
    {
     "data": {
      "text/plain": [
       "10"
      ]
     },
     "execution_count": 25,
     "metadata": {},
     "output_type": "execute_result"
    }
   ],
   "source": [
    "length(cuadrados)"
   ]
  },
  {
   "cell_type": "code",
   "execution_count": 29,
   "metadata": {},
   "outputs": [
    {
     "ename": "BoundsError",
     "evalue": "BoundsError: attempt to access 10-element Array{Int64,1} at index [0]",
     "output_type": "error",
     "traceback": [
      "BoundsError: attempt to access 10-element Array{Int64,1} at index [0]",
      "",
      "Stacktrace:",
      " [1] getindex(::Array{Int64,1}, ::Int64) at ./array.jl:731",
      " [2] top-level scope at In[29]:1"
     ]
    }
   ],
   "source": [
    "cuadrados[0]"
   ]
  },
  {
   "cell_type": "code",
   "execution_count": 33,
   "metadata": {},
   "outputs": [
    {
     "data": {
      "text/plain": [
       "100"
      ]
     },
     "execution_count": 33,
     "metadata": {},
     "output_type": "execute_result"
    }
   ],
   "source": [
    "cuadrados[length(cuadrados)]"
   ]
  },
  {
   "cell_type": "code",
   "execution_count": 35,
   "metadata": {},
   "outputs": [
    {
     "data": {
      "text/plain": [
       "100"
      ]
     },
     "execution_count": 35,
     "metadata": {},
     "output_type": "execute_result"
    }
   ],
   "source": [
    "cuadrados[end]"
   ]
  },
  {
   "cell_type": "code",
   "execution_count": 21,
   "metadata": {},
   "outputs": [
    {
     "data": {
      "text/plain": [
       "suma_gauss (generic function with 1 method)"
      ]
     },
     "execution_count": 21,
     "metadata": {},
     "output_type": "execute_result"
    }
   ],
   "source": [
    "suma_gauss(n) =n*(n+1)/2 "
   ]
  },
  {
   "cell_type": "code",
   "execution_count": 38,
   "metadata": {},
   "outputs": [
    {
     "data": {
      "text/plain": [
       "10-element Array{Int64,1}:\n",
       "  1\n",
       "  2\n",
       "  3\n",
       "  4\n",
       "  5\n",
       "  6\n",
       "  7\n",
       "  8\n",
       "  9\n",
       " 10"
      ]
     },
     "execution_count": 38,
     "metadata": {},
     "output_type": "execute_result"
    }
   ],
   "source": [
    "naturales = [i for i in 1:10]"
   ]
  },
  {
   "cell_type": "code",
   "execution_count": 40,
   "metadata": {},
   "outputs": [
    {
     "name": "stdout",
     "output_type": "stream",
     "text": [
      "55\n"
     ]
    },
    {
     "data": {
      "text/plain": [
       "true"
      ]
     },
     "execution_count": 40,
     "metadata": {},
     "output_type": "execute_result"
    }
   ],
   "source": [
    "n=10\n",
    "resultado = 0\n",
    "\n",
    "for i in 1:n\n",
    "    resultado += naturales[i]\n",
    "end\n",
    "\n",
    "println(resultado)\n",
    "resultado == suma_gauss(n)"
   ]
  },
  {
   "cell_type": "code",
   "execution_count": 41,
   "metadata": {},
   "outputs": [
    {
     "data": {
      "text/plain": [
       "10-element Array{Int64,1}:\n",
       "   1\n",
       "   4\n",
       "   9\n",
       "  16\n",
       "  25\n",
       "  36\n",
       "  49\n",
       "  64\n",
       "  81\n",
       " 100"
      ]
     },
     "execution_count": 41,
     "metadata": {},
     "output_type": "execute_result"
    }
   ],
   "source": [
    "cuadrados"
   ]
  },
  {
   "cell_type": "code",
   "execution_count": 43,
   "metadata": {},
   "outputs": [
    {
     "name": "stdout",
     "output_type": "stream",
     "text": [
      "338350\n"
     ]
    }
   ],
   "source": [
    "n=100\n",
    "resultado = 0\n",
    "cuadrados=[i^2 for i in 1:n]\n",
    "for i in 1:length(cuadrados)\n",
    "    resultado += cuadrados[i]\n",
    "end\n",
    "\n",
    "println(resultado)\n"
   ]
  },
  {
   "cell_type": "code",
   "execution_count": 44,
   "metadata": {},
   "outputs": [
    {
     "data": {
      "text/plain": [
       "338350.0"
      ]
     },
     "execution_count": 44,
     "metadata": {},
     "output_type": "execute_result"
    }
   ],
   "source": [
    "suma_cuadrados(n)=n*(n+1)*(2*n+1)/6\n",
    "suma_cuadrados(100)"
   ]
  }
 ],
 "metadata": {
  "@webio": {
   "lastCommId": "26875f4e1b804d039541bcf07c6d2d83",
   "lastKernelId": "2747f905-4b09-4292-809c-487eac431a57"
  },
  "kernelspec": {
   "display_name": "Julia 1.0.2",
   "language": "julia",
   "name": "julia-1.0"
  },
  "language_info": {
   "file_extension": ".jl",
   "mimetype": "application/julia",
   "name": "julia",
   "version": "1.0.2"
  }
 },
 "nbformat": 4,
 "nbformat_minor": 2
}
