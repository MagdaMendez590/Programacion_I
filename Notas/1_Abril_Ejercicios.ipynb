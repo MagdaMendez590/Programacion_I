{
 "cells": [
  {
   "cell_type": "markdown",
   "metadata": {},
   "source": [
    "## Repaso \n",
    "\n",
    "Para repasar y apropiarnos de los conceptos y métodos que hemos visto durante el semestre, esta clase estará dedicada a resolver ejercicios.\n",
    "\n",
    "### Ejercicio\n",
    "Pruebe si puede escribir letras griegas y emoticons"
   ]
  },
  {
   "cell_type": "code",
   "execution_count": 1,
   "metadata": {},
   "outputs": [
    {
     "data": {
      "text/plain": [
       "\"hola\""
      ]
     },
     "execution_count": 1,
     "metadata": {},
     "output_type": "execute_result"
    }
   ],
   "source": [
    "α= \"hola\""
   ]
  },
  {
   "cell_type": "code",
   "execution_count": 3,
   "metadata": {},
   "outputs": [
    {
     "data": {
      "text/plain": [
       "\"holamundo\""
      ]
     },
     "execution_count": 3,
     "metadata": {},
     "output_type": "execute_result"
    }
   ],
   "source": [
    "α*\"mundo\""
   ]
  },
  {
   "cell_type": "code",
   "execution_count": null,
   "metadata": {},
   "outputs": [],
   "source": []
  },
  {
   "cell_type": "markdown",
   "metadata": {},
   "source": [
    "### Ejercicio\n",
    "\n",
    "* Crea una función que acepte como argumento una cadena y la imprima 100 veces\n",
    "* Cree una función llama `saludando(nombre,edad)` e imprima un texto de presentación en el cual exponga su nombre y edad"
   ]
  },
  {
   "cell_type": "code",
   "execution_count": 11,
   "metadata": {},
   "outputs": [
    {
     "data": {
      "text/plain": [
       "\"holaholaholaholaholaholaholaholaholahola\""
      ]
     },
     "execution_count": 11,
     "metadata": {},
     "output_type": "execute_result"
    }
   ],
   "source": [
    "α^10"
   ]
  },
  {
   "cell_type": "code",
   "execution_count": 14,
   "metadata": {},
   "outputs": [
    {
     "data": {
      "text/plain": [
       "imprimeestodevolada (generic function with 1 method)"
      ]
     },
     "execution_count": 14,
     "metadata": {},
     "output_type": "execute_result"
    }
   ],
   "source": [
    "function imprimeestodevolada(x)\n",
    "    x^5\n",
    "end"
   ]
  },
  {
   "cell_type": "code",
   "execution_count": 12,
   "metadata": {},
   "outputs": [
    {
     "data": {
      "text/plain": [
       "\"hola Elton, soy Eltonhola Elton, soy Eltonhola Elton, soy Eltonhola Elton, soy Eltonhola Elton, soy Eltonhola Elton, soy Eltonhola Elton, soy Eltonhola Elton, soy Eltonhola Elton, soy Eltonhola Elton, soy Eltonhola Elton, soy Eltonhola Elton, soy Eltonhola Elton, soy Eltonhola Elton, soy Eltonhola Elton, soy Eltonhola Elton, soy Eltonhola Elton, soy Eltonhola Elton, soy Eltonhola Elton, soy Eltonhola Elton, soy Eltonhola Elton, soy Eltonhola Elton, soy Eltonhola Elton, soy Eltonhola Elton, soy Eltonhola Elton, soy Eltonhola Elton, soy Eltonhola Elton, soy Eltonhola Elton, soy Eltonhola Elton, soy Eltonhola Elton, soy Eltonhola Elton, soy Eltonhola Elton, soy Eltonhola Elton, soy Eltonhola Elton, soy Eltonhola Elton, soy Eltonhola Elton, soy Eltonhola Elton, soy Eltonhola Elton, soy Eltonhola Elton, soy Eltonhola Elton, soy Eltonhola Elton, soy Eltonhola Elton, soy Eltonhola Elton, soy Eltonhola Elton, soy Eltonhola Elton, soy Eltonhola Elton, soy Eltonhola Elton, soy Eltonhola Elton, soy Eltonhola Elton, soy Eltonhola Elton, soy Eltonhola Elton, soy Eltonhola Elton, soy Eltonhola Elton, soy Eltonhola Elton, soy Eltonhola Elton, soy Eltonhola Elton, soy Eltonhola Elton, soy Eltonhola Elton, soy Eltonhola Elton, soy Eltonhola Elton, soy Eltonhola Elton, soy Eltonhola Elton, soy Eltonhola Elton, soy Eltonhola Elton, soy Eltonhola Elton, soy Eltonhola Elton, soy Eltonhola Elton, soy Eltonhola Elton, soy Eltonhola Elton, soy Eltonhola Elton, soy Eltonhola Elton, soy Eltonhola Elton, soy Eltonhola Elton, soy Eltonhola Elton, soy Eltonhola Elton, soy Eltonhola Elton, soy Eltonhola Elton, soy Eltonhola Elton, soy Eltonhola Elton, soy Eltonhola Elton, soy Eltonhola Elton, soy Eltonhola Elton, soy Eltonhola Elton, soy Eltonhola Elton, soy Eltonhola Elton, soy Eltonhola Elton, soy Eltonhola Elton, soy Eltonhola Elton, soy Eltonhola Elton, soy Eltonhola Elton, soy Eltonhola Elton, soy Eltonhola Elton, soy Eltonhola Elton, soy Eltonhola Elton, soy Eltonhola Elton, soy Eltonhola Elton, soy Eltonhola Elton, soy Eltonhola Elton, soy Eltonhola Elton, soy Eltonhola Elton, soy Elton\""
      ]
     },
     "execution_count": 12,
     "metadata": {},
     "output_type": "execute_result"
    }
   ],
   "source": [
    "imprimeestodevolda(\"hola Elton, soy Elton\")"
   ]
  },
  {
   "cell_type": "code",
   "execution_count": 13,
   "metadata": {},
   "outputs": [
    {
     "name": "stdout",
     "output_type": "stream",
     "text": [
      "Mi nombre es Mario y mi cerveza es victoria\n"
     ]
    }
   ],
   "source": [
    "println(\"Mi nombre es Mario y mi cerveza es victoria\")"
   ]
  },
  {
   "cell_type": "code",
   "execution_count": null,
   "metadata": {},
   "outputs": [],
   "source": [
    "nombre = \"José\"\n",
    "\n",
    "println(\"Soy \")\n",
    "\n",
    "nombre = \"Mario\"\n",
    "\n",
    "println(\"Soy \")"
   ]
  },
  {
   "cell_type": "code",
   "execution_count": 17,
   "metadata": {},
   "outputs": [
    {
     "name": "stdout",
     "output_type": "stream",
     "text": [
      "Mi nombre José es y tengo 20 años\n"
     ]
    }
   ],
   "source": [
    "function saludando(nombre,edad)\n",
    "    println(\"Mi nombre $nombre es y tengo $edad años\")\n",
    "    \n",
    "end\n",
    "\n",
    "saludando(\"José\",n )"
   ]
  },
  {
   "cell_type": "markdown",
   "metadata": {},
   "source": [
    "### Ejercicio \n",
    "\n",
    "* Reescriba la función `es_triangulo()` de tal manera que las longitudes de cada lado sea introducida por el usuario de manera interactiva.\n",
    "\n",
    "*Hint: usea la función `parse()` para convertir cadenas a números*"
   ]
  },
  {
   "cell_type": "code",
   "execution_count": 4,
   "metadata": {},
   "outputs": [
    {
     "name": "stdout",
     "output_type": "stream",
     "text": [
      "Los triángulo tiene tres lados.\n",
      "¿Cuánto mide el primer lado?\n",
      "stdin> 23\n"
     ]
    },
    {
     "data": {
      "text/plain": [
       "23"
      ]
     },
     "execution_count": 4,
     "metadata": {},
     "output_type": "execute_result"
    }
   ],
   "source": [
    "println(\"Los triángulo tiene tres lados.\")\n",
    "println(\"¿Cuánto mide el primer lado?\")\n",
    "a = parse(Int,readline())"
   ]
  },
  {
   "cell_type": "code",
   "execution_count": 5,
   "metadata": {},
   "outputs": [
    {
     "data": {
      "text/plain": [
       "Int64"
      ]
     },
     "execution_count": 5,
     "metadata": {},
     "output_type": "execute_result"
    }
   ],
   "source": [
    "typeof(a)"
   ]
  },
  {
   "cell_type": "code",
   "execution_count": 6,
   "metadata": {},
   "outputs": [
    {
     "name": "stdout",
     "output_type": "stream",
     "text": [
      "Los triángulo tiene tres lados.\n",
      "¿Cuánto mide el primer lado?\n",
      "stdin> 24\n",
      "¿Cuánto mide el segundo lado?\n",
      "stdin> 25\n"
     ]
    },
    {
     "data": {
      "text/plain": [
       "25"
      ]
     },
     "execution_count": 6,
     "metadata": {},
     "output_type": "execute_result"
    }
   ],
   "source": [
    "function triangulo()\n",
    "    println(\"Los triángulo tiene tres lados.\")\n",
    "    println(\"¿Cuánto mide el primer lado?\")\n",
    "    a = parse(Int,readline())\n",
    "    println(\"¿Cuánto mide el segundo lado?\")\n",
    "    b = parse(Int,readline())\n",
    "    \n",
    "    ###cuerpo de condiconalesa\n",
    "    \n",
    "end\n",
    "\n",
    "triangulo()"
   ]
  },
  {
   "cell_type": "markdown",
   "metadata": {},
   "source": [
    "## Ejercicio\n",
    "\n",
    "* Escriba una declaración condicional que imprima el número si es par, si no imprima la palabra \"impar\".\n",
    "\n",
    "Para esto haremos uso del operador residuo: `%`"
   ]
  },
  {
   "cell_type": "code",
   "execution_count": 15,
   "metadata": {},
   "outputs": [
    {
     "data": {
      "text/plain": [
       "2"
      ]
     },
     "execution_count": 15,
     "metadata": {},
     "output_type": "execute_result"
    }
   ],
   "source": [
    "5%3"
   ]
  },
  {
   "cell_type": "code",
   "execution_count": 16,
   "metadata": {},
   "outputs": [
    {
     "data": {
      "text/plain": [
       "0"
      ]
     },
     "execution_count": 16,
     "metadata": {},
     "output_type": "execute_result"
    }
   ],
   "source": [
    "10 % 2"
   ]
  },
  {
   "cell_type": "code",
   "execution_count": 20,
   "metadata": {},
   "outputs": [
    {
     "name": "stdout",
     "output_type": "stream",
     "text": [
      "1 es impar\n",
      "2\n",
      "3 es impar\n",
      "4\n",
      "5 es impar\n",
      "6\n",
      "7 es impar\n",
      "8\n",
      "9 es impar\n",
      "10\n",
      "11 es impar\n",
      "12\n",
      "13 es impar\n",
      "14\n",
      "15 es impar\n",
      "16\n",
      "17 es impar\n",
      "18\n",
      "19 es impar\n",
      "20\n"
     ]
    }
   ],
   "source": [
    "for k in 1:20\n",
    "    if k%2 == 0\n",
    "        println(k)\n",
    "    else\n",
    "        println(\"$k es impar\")\n",
    "    end\n",
    "end"
   ]
  },
  {
   "cell_type": "markdown",
   "metadata": {},
   "source": [
    "## `break` y `continue`\n",
    "\n",
    "A veces, al hacer una iteración, queremos saltarnos ciertos valores. En este caso `continue` es muy útil:"
   ]
  },
  {
   "cell_type": "code",
   "execution_count": 23,
   "metadata": {},
   "outputs": [
    {
     "name": "stdout",
     "output_type": "stream",
     "text": [
      "Iteración número: 1\n",
      "1 es impar\n",
      "Iteración número: 2\n",
      "Iteración número: 3\n",
      "3 es impar\n",
      "Iteración número: 4\n",
      "Iteración número: 5\n",
      "5 es impar\n",
      "Iteración número: 6\n",
      "Iteración número: 7\n",
      "7 es impar\n",
      "Iteración número: 8\n",
      "Iteración número: 9\n",
      "9 es impar\n",
      "Iteración número: 10\n",
      "Iteración número: 11\n",
      "11 es impar\n",
      "Iteración número: 12\n",
      "Iteración número: 13\n",
      "13 es impar\n",
      "Iteración número: 14\n",
      "Iteración número: 15\n",
      "15 es impar\n",
      "Iteración número: 16\n",
      "Iteración número: 17\n",
      "17 es impar\n",
      "Iteración número: 18\n",
      "Iteración número: 19\n",
      "19 es impar\n",
      "Iteración número: 20\n"
     ]
    }
   ],
   "source": [
    "# Queremos imprimir impares\n",
    "for i in 1:20\n",
    "    println(\"Iteración número: $i\")\n",
    "    if i % 2 == 0\n",
    "        continue\n",
    "    end\n",
    "    println(\"$i es impar\")\n",
    "end"
   ]
  },
  {
   "cell_type": "markdown",
   "metadata": {},
   "source": [
    "Otras tantas veces, no estarás seguro cuando terminar un loop o iteración. Aquí es útil `break`:"
   ]
  },
  {
   "cell_type": "markdown",
   "metadata": {},
   "source": [
    "Supongamos que queremos que nuestro código repita todo lo que un usario escriba, hasta que se despida (escriba \"adiós\")."
   ]
  },
  {
   "cell_type": "code",
   "execution_count": 26,
   "metadata": {},
   "outputs": [
    {
     "name": "stdout",
     "output_type": "stream",
     "text": [
      "stdin> hola\n",
      "hola :P\n",
      "stdin> mundo\n",
      "mundo :P\n",
      "stdin> mario\n",
      "mario :P\n",
      "stdin> adiós\n",
      "Nos vemos\n"
     ]
    }
   ],
   "source": [
    "while true\n",
    "    line = readline()\n",
    "    if line == \"adiós\"\n",
    "        break\n",
    "    end\n",
    "    println(line, \" :P\")\n",
    "end\n",
    "println(\"Nos vemos\")"
   ]
  },
  {
   "cell_type": "markdown",
   "metadata": {},
   "source": [
    "### Ejercicio\n",
    "\n",
    "Escriba una función que nos diga si un número es primo o no."
   ]
  },
  {
   "cell_type": "code",
   "execution_count": 31,
   "metadata": {},
   "outputs": [
    {
     "name": "stdout",
     "output_type": "stream",
     "text": [
      "No es primo\n"
     ]
    }
   ],
   "source": [
    "n = 9\n",
    "for i in 2:n-1\n",
    "    #@show n%i, n, i \n",
    "    if n%i == 0 \n",
    "        println(\"No es primo\")\n",
    "        break\n",
    "    elseif n%i != 0 && i == n-1\n",
    "        @show n%i, n, i \n",
    "        println(\"$n es primo\")\n",
    "    end\n",
    "end"
   ]
  },
  {
   "cell_type": "code",
   "execution_count": 36,
   "metadata": {},
   "outputs": [
    {
     "data": {
      "text/plain": [
       "primos (generic function with 1 method)"
      ]
     },
     "execution_count": 36,
     "metadata": {},
     "output_type": "execute_result"
    }
   ],
   "source": [
    "function primos(n)\n",
    "    for i in 2:n-1\n",
    "    @show n%i, n, i \n",
    "        if n%i == 0 \n",
    "            println(\"No es primo\")\n",
    "            return false\n",
    "            break\n",
    "        elseif n%i != 0 && i == n-1\n",
    "            #@show n%i, n, i \n",
    "            println(\"$n es primo\")\n",
    "            return true\n",
    "        end\n",
    "    end\n",
    "    \n",
    "end"
   ]
  },
  {
   "cell_type": "code",
   "execution_count": 35,
   "metadata": {},
   "outputs": [
    {
     "name": "stdout",
     "output_type": "stream",
     "text": [
      "(n % i, n, i) = (1, 9, 2)\n",
      "(n % i, n, i) = (0, 9, 3)\n",
      "No es primo\n"
     ]
    },
    {
     "data": {
      "text/plain": [
       "false"
      ]
     },
     "execution_count": 35,
     "metadata": {},
     "output_type": "execute_result"
    }
   ],
   "source": [
    "es_primo = primos(13)"
   ]
  },
  {
   "cell_type": "code",
   "execution_count": 25,
   "metadata": {},
   "outputs": [
    {
     "data": {
      "text/plain": [
       "true"
      ]
     },
     "execution_count": 25,
     "metadata": {},
     "output_type": "execute_result"
    }
   ],
   "source": [
    "es_primo"
   ]
  },
  {
   "cell_type": "code",
   "execution_count": 26,
   "metadata": {},
   "outputs": [
    {
     "data": {
      "text/plain": [
       "Bool"
      ]
     },
     "execution_count": 26,
     "metadata": {},
     "output_type": "execute_result"
    }
   ],
   "source": [
    "typeof(es_primo)"
   ]
  },
  {
   "cell_type": "code",
   "execution_count": 45,
   "metadata": {},
   "outputs": [
    {
     "name": "stdout",
     "output_type": "stream",
     "text": [
      "1\n"
     ]
    },
    {
     "data": {
      "text/plain": [
       "3"
      ]
     },
     "execution_count": 45,
     "metadata": {},
     "output_type": "execute_result"
    }
   ],
   "source": [
    "i= 0\n",
    "i = i +1\n",
    "println(i )\n",
    "i += 2"
   ]
  },
  {
   "cell_type": "code",
   "execution_count": 42,
   "metadata": {},
   "outputs": [
    {
     "data": {
      "text/plain": [
       "primos_while (generic function with 1 method)"
      ]
     },
     "execution_count": 42,
     "metadata": {},
     "output_type": "execute_result"
    }
   ],
   "source": [
    "function primos_while(n)\n",
    "    i = 2\n",
    "    while i < n\n",
    "        @show n%i, n, i \n",
    "        if n%i == 0 \n",
    "            println(\"No es primo\")\n",
    "            return false\n",
    "            break\n",
    "        elseif n%i != 0 && i == n-1\n",
    "            #@show n%i, n, i \n",
    "            println(\"$n es primo\")\n",
    "            return true\n",
    "        end\n",
    "        i += 1\n",
    "    end\n",
    "    \n",
    "end"
   ]
  },
  {
   "cell_type": "code",
   "execution_count": 43,
   "metadata": {},
   "outputs": [
    {
     "name": "stdout",
     "output_type": "stream",
     "text": [
      "(n % i, n, i) = (1, 5, 2)\n",
      "(n % i, n, i) = (2, 5, 3)\n",
      "(n % i, n, i) = (1, 5, 4)\n",
      "5 es primo\n"
     ]
    },
    {
     "data": {
      "text/plain": [
       "true"
      ]
     },
     "execution_count": 43,
     "metadata": {},
     "output_type": "execute_result"
    }
   ],
   "source": [
    "primos_while(5)"
   ]
  },
  {
   "cell_type": "markdown",
   "metadata": {},
   "source": [
    "### Ejercicio\n",
    "Escriba una función que imprima los números primeros menores o iguales a `n`."
   ]
  },
  {
   "cell_type": "markdown",
   "metadata": {},
   "source": [
    "## Ejercicio\n",
    "\n",
    "Escriba una función recursiva que calcule los primeros `n` términos de la suceción de Fibonacci.\n",
    "\n",
    "La [sucesión de Fibonacci](https://es.wikipedia.org/wiki/Sucesi%C3%B3n_de_Fibonacci) es la serie infinita de números naturales\n",
    "\n",
    "> $0, 1, 1, 2, 3, 5, 8, 13, 21, ...$\n",
    "\n",
    "De manera recursiva se define como\n",
    "\n",
    "> $f_0 = 0$, $f_1= 1$  \n",
    ">\n",
    "> y  para $n>1$\n",
    ">\n",
    "> $f_n = f_{n-1}+f_{n-2}$.\n"
   ]
  },
  {
   "cell_type": "code",
   "execution_count": 47,
   "metadata": {},
   "outputs": [
    {
     "data": {
      "text/plain": [
       "1"
      ]
     },
     "execution_count": 47,
     "metadata": {},
     "output_type": "execute_result"
    }
   ],
   "source": [
    "f_0 = 0; f_1 = 1\n",
    "f_2 = f_0+f_1"
   ]
  },
  {
   "cell_type": "code",
   "execution_count": 48,
   "metadata": {},
   "outputs": [
    {
     "data": {
      "text/plain": [
       "2"
      ]
     },
     "execution_count": 48,
     "metadata": {},
     "output_type": "execute_result"
    }
   ],
   "source": [
    "f_3 = f_2 + f_1"
   ]
  },
  {
   "cell_type": "code",
   "execution_count": 49,
   "metadata": {},
   "outputs": [
    {
     "data": {
      "text/plain": [
       "9"
      ]
     },
     "execution_count": 49,
     "metadata": {},
     "output_type": "execute_result"
    }
   ],
   "source": [
    "n"
   ]
  },
  {
   "cell_type": "code",
   "execution_count": 1,
   "metadata": {},
   "outputs": [
    {
     "data": {
      "text/plain": [
       "fibo (generic function with 1 method)"
      ]
     },
     "execution_count": 1,
     "metadata": {},
     "output_type": "execute_result"
    }
   ],
   "source": [
    "function fibo(k)\n",
    "    if k == 0      ### El término cero de la sucesión es 0\n",
    "        return 0\n",
    "    elseif k == 1   ### Aquí definimos el primer término de la sucesión que es 1\n",
    "        return 1\n",
    "    elseif 1 <= k ### Apartir de acá usamos la recursividad para definir \n",
    "        return fibo(k-1)+fibo(k-2)\n",
    "    end\n",
    "end"
   ]
  },
  {
   "cell_type": "code",
   "execution_count": null,
   "metadata": {},
   "outputs": [],
   "source": [
    "@time fibo(100)"
   ]
  },
  {
   "cell_type": "code",
   "execution_count": 52,
   "metadata": {},
   "outputs": [
    {
     "data": {
      "text/plain": [
       "9"
      ]
     },
     "execution_count": 52,
     "metadata": {},
     "output_type": "execute_result"
    }
   ],
   "source": [
    "n"
   ]
  },
  {
   "cell_type": "code",
   "execution_count": 57,
   "metadata": {},
   "outputs": [
    {
     "ename": "UndefVarError",
     "evalue": "UndefVarError: k not defined",
     "output_type": "error",
     "traceback": [
      "UndefVarError: k not defined",
      "",
      "Stacktrace:",
      " [1] top-level scope at In[57]:1"
     ]
    }
   ],
   "source": [
    "k"
   ]
  },
  {
   "cell_type": "code",
   "execution_count": null,
   "metadata": {},
   "outputs": [],
   "source": []
  }
 ],
 "metadata": {
  "@webio": {
   "lastCommId": "b223433b44be40e687ed9a91ec5d84ac",
   "lastKernelId": "6a2f5162-3470-4032-9944-80fdf53983e0"
  },
  "kernelspec": {
   "display_name": "Julia 1.0.2",
   "language": "julia",
   "name": "julia-1.0"
  },
  "language_info": {
   "file_extension": ".jl",
   "mimetype": "application/julia",
   "name": "julia",
   "version": "1.0.2"
  }
 },
 "nbformat": 4,
 "nbformat_minor": 2
}
