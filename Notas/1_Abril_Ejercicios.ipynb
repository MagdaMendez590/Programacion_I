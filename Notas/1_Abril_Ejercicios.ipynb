{
 "cells": [
  {
   "cell_type": "markdown",
   "metadata": {},
   "source": [
    "## Repaso \n",
    "\n",
    "Para repasar y apropiarnos de los conceptos y métodos que hemos visto durante el semestre, esta clase estará dedicada a resolver ejercicios.\n",
    "\n",
    "### Ejercicio\n",
    "Pruebe si puede escribir letras griegas y emoticons"
   ]
  },
  {
   "cell_type": "code",
   "execution_count": 1,
   "metadata": {},
   "outputs": [
    {
     "data": {
      "text/plain": [
       "\"hola\""
      ]
     },
     "execution_count": 1,
     "metadata": {},
     "output_type": "execute_result"
    }
   ],
   "source": [
    "α= \"hola\""
   ]
  },
  {
   "cell_type": "code",
   "execution_count": 3,
   "metadata": {},
   "outputs": [
    {
     "data": {
      "text/plain": [
       "\"holamundo\""
      ]
     },
     "execution_count": 3,
     "metadata": {},
     "output_type": "execute_result"
    }
   ],
   "source": [
    "α*\"mundo\""
   ]
  },
  {
   "cell_type": "code",
   "execution_count": null,
   "metadata": {},
   "outputs": [],
   "source": []
  },
  {
   "cell_type": "markdown",
   "metadata": {},
   "source": [
    "### Ejercicio\n",
    "\n",
    "* Crea una función que acepte como argumento una cadena y la imprima 100 veces\n",
    "* Cree una función llama `saludando(nombre,edad)` e imprima un texto de presentación en el cual exponga su nombre y edad"
   ]
  },
  {
   "cell_type": "code",
   "execution_count": 11,
   "metadata": {},
   "outputs": [
    {
     "data": {
      "text/plain": [
       "\"holaholaholaholaholaholaholaholaholahola\""
      ]
     },
     "execution_count": 11,
     "metadata": {},
     "output_type": "execute_result"
    }
   ],
   "source": [
    "α^10"
   ]
  },
  {
   "cell_type": "code",
   "execution_count": 14,
   "metadata": {},
   "outputs": [
    {
     "data": {
      "text/plain": [
       "imprimeestodevolada (generic function with 1 method)"
      ]
     },
     "execution_count": 14,
     "metadata": {},
     "output_type": "execute_result"
    }
   ],
   "source": [
    "function imprimeestodevolada(x)\n",
    "    x^5\n",
    "end"
   ]
  },
  {
   "cell_type": "code",
   "execution_count": 12,
   "metadata": {},
   "outputs": [
    {
     "data": {
      "text/plain": [
       "\"hola Elton, soy Eltonhola Elton, soy Eltonhola Elton, soy Eltonhola Elton, soy Eltonhola Elton, soy Eltonhola Elton, soy Eltonhola Elton, soy Eltonhola Elton, soy Eltonhola Elton, soy Eltonhola Elton, soy Eltonhola Elton, soy Eltonhola Elton, soy Eltonhola Elton, soy Eltonhola Elton, soy Eltonhola Elton, soy Eltonhola Elton, soy Eltonhola Elton, soy Eltonhola Elton, soy Eltonhola Elton, soy Eltonhola Elton, soy Eltonhola Elton, soy Eltonhola Elton, soy Eltonhola Elton, soy Eltonhola Elton, soy Eltonhola Elton, soy Eltonhola Elton, soy Eltonhola Elton, soy Eltonhola Elton, soy Eltonhola Elton, soy Eltonhola Elton, soy Eltonhola Elton, soy Eltonhola Elton, soy Eltonhola Elton, soy Eltonhola Elton, soy Eltonhola Elton, soy Eltonhola Elton, soy Eltonhola Elton, soy Eltonhola Elton, soy Eltonhola Elton, soy Eltonhola Elton, soy Eltonhola Elton, soy Eltonhola Elton, soy Eltonhola Elton, soy Eltonhola Elton, soy Eltonhola Elton, soy Eltonhola Elton, soy Eltonhola Elton, soy Eltonhola Elton, soy Eltonhola Elton, soy Eltonhola Elton, soy Eltonhola Elton, soy Eltonhola Elton, soy Eltonhola Elton, soy Eltonhola Elton, soy Eltonhola Elton, soy Eltonhola Elton, soy Eltonhola Elton, soy Eltonhola Elton, soy Eltonhola Elton, soy Eltonhola Elton, soy Eltonhola Elton, soy Eltonhola Elton, soy Eltonhola Elton, soy Eltonhola Elton, soy Eltonhola Elton, soy Eltonhola Elton, soy Eltonhola Elton, soy Eltonhola Elton, soy Eltonhola Elton, soy Eltonhola Elton, soy Eltonhola Elton, soy Eltonhola Elton, soy Eltonhola Elton, soy Eltonhola Elton, soy Eltonhola Elton, soy Eltonhola Elton, soy Eltonhola Elton, soy Eltonhola Elton, soy Eltonhola Elton, soy Eltonhola Elton, soy Eltonhola Elton, soy Eltonhola Elton, soy Eltonhola Elton, soy Eltonhola Elton, soy Eltonhola Elton, soy Eltonhola Elton, soy Eltonhola Elton, soy Eltonhola Elton, soy Eltonhola Elton, soy Eltonhola Elton, soy Eltonhola Elton, soy Eltonhola Elton, soy Eltonhola Elton, soy Eltonhola Elton, soy Eltonhola Elton, soy Eltonhola Elton, soy Eltonhola Elton, soy Eltonhola Elton, soy Eltonhola Elton, soy Eltonhola Elton, soy Elton\""
      ]
     },
     "execution_count": 12,
     "metadata": {},
     "output_type": "execute_result"
    }
   ],
   "source": [
    "imprimeestodevolda(\"hola Elton, soy Elton\")"
   ]
  },
  {
   "cell_type": "code",
   "execution_count": 13,
   "metadata": {},
   "outputs": [
    {
     "name": "stdout",
     "output_type": "stream",
     "text": [
      "Mi nombre es Mario y mi cerveza es victoria\n"
     ]
    }
   ],
   "source": [
    "println(\"Mi nombre es Mario y mi cerveza es victoria\")"
   ]
  },
  {
   "cell_type": "code",
   "execution_count": null,
   "metadata": {},
   "outputs": [],
   "source": [
    "nombre = \"José\"\n",
    "\n",
    "println(\"Soy \")\n",
    "\n",
    "nombre = \"Mario\"\n",
    "\n",
    "println(\"Soy \")"
   ]
  },
  {
   "cell_type": "code",
   "execution_count": 17,
   "metadata": {},
   "outputs": [
    {
     "name": "stdout",
     "output_type": "stream",
     "text": [
      "Mi nombre José es y tengo 20 años\n"
     ]
    }
   ],
   "source": [
    "function saludando(nombre,edad)\n",
    "    println(\"Mi nombre $nombre es y tengo $edad años\")\n",
    "    \n",
    "end\n",
    "\n",
    "saludando(\"José\",n )"
   ]
  },
  {
   "cell_type": "markdown",
   "metadata": {},
   "source": [
    "### Ejercicio \n",
    "\n",
    "* Reescriba la función `es_triangulo()` de tal manera que las longitudes de cada lado sea introducida por el usuario de manera interactiva.\n",
    "\n",
    "*Hint: usea la función `parse()` para convertir cadenas a números*"
   ]
  },
  {
   "cell_type": "code",
   "execution_count": 4,
   "metadata": {},
   "outputs": [
    {
     "name": "stdout",
     "output_type": "stream",
     "text": [
      "Los triángulo tiene tres lados.\n",
      "¿Cuánto mide el primer lado?\n",
      "stdin> 23\n"
     ]
    },
    {
     "data": {
      "text/plain": [
       "23"
      ]
     },
     "execution_count": 4,
     "metadata": {},
     "output_type": "execute_result"
    }
   ],
   "source": [
    "println(\"Los triángulo tiene tres lados.\")\n",
    "println(\"¿Cuánto mide el primer lado?\")\n",
    "a = parse(Int,readline())"
   ]
  },
  {
   "cell_type": "code",
   "execution_count": 5,
   "metadata": {},
   "outputs": [
    {
     "data": {
      "text/plain": [
       "Int64"
      ]
     },
     "execution_count": 5,
     "metadata": {},
     "output_type": "execute_result"
    }
   ],
   "source": [
    "typeof(a)"
   ]
  },
  {
   "cell_type": "code",
   "execution_count": 6,
   "metadata": {},
   "outputs": [
    {
     "name": "stdout",
     "output_type": "stream",
     "text": [
      "Los triángulo tiene tres lados.\n",
      "¿Cuánto mide el primer lado?\n",
      "stdin> 24\n",
      "¿Cuánto mide el segundo lado?\n",
      "stdin> 25\n"
     ]
    },
    {
     "data": {
      "text/plain": [
       "25"
      ]
     },
     "execution_count": 6,
     "metadata": {},
     "output_type": "execute_result"
    }
   ],
   "source": [
    "function triangulo()\n",
    "    println(\"Los triángulo tiene tres lados.\")\n",
    "    println(\"¿Cuánto mide el primer lado?\")\n",
    "    a = parse(Int,readline())\n",
    "    println(\"¿Cuánto mide el segundo lado?\")\n",
    "    b = parse(Int,readline())\n",
    "    \n",
    "    ###cuerpo de condiconalesa\n",
    "    \n",
    "end\n",
    "\n",
    "triangulo()"
   ]
  },
  {
   "cell_type": "markdown",
   "metadata": {},
   "source": [
    "## Ejercicio\n",
    "\n",
    "Escriba una declaración condicional que imprima el número si es par, si no imprima la palabra \"impar\"."
   ]
  },
  {
   "cell_type": "code",
   "execution_count": 12,
   "metadata": {},
   "outputs": [
    {
     "name": "stdout",
     "output_type": "stream",
     "text": [
      "search: d\u001b[0m\u001b[1mi\u001b[22m\u001b[0m\u001b[1ms\u001b[22m\u001b[0m\u001b[1mp\u001b[22ml\u001b[0m\u001b[1ma\u001b[22mys\u001b[0m\u001b[1mi\u001b[22mze\n",
      "\n",
      "Couldn't find \u001b[36mispair\u001b[39m\n",
      "Perhaps you meant ispath, isdir, isspace, isperm, ispow2, isprint or isnan\n"
     ]
    },
    {
     "data": {
      "text/latex": [
       "No documentation found.\n",
       "\n",
       "Binding \\texttt{ispair} does not exist.\n",
       "\n"
      ],
      "text/markdown": [
       "No documentation found.\n",
       "\n",
       "Binding `ispair` does not exist.\n"
      ],
      "text/plain": [
       "  No documentation found.\n",
       "\n",
       "  Binding \u001b[36mispair\u001b[39m does not exist."
      ]
     },
     "execution_count": 12,
     "metadata": {},
     "output_type": "execute_result"
    }
   ],
   "source": [
    "?ispair"
   ]
  },
  {
   "cell_type": "code",
   "execution_count": 15,
   "metadata": {},
   "outputs": [
    {
     "data": {
      "text/plain": [
       "2"
      ]
     },
     "execution_count": 15,
     "metadata": {},
     "output_type": "execute_result"
    }
   ],
   "source": [
    "5%3"
   ]
  },
  {
   "cell_type": "code",
   "execution_count": 16,
   "metadata": {},
   "outputs": [
    {
     "data": {
      "text/plain": [
       "0"
      ]
     },
     "execution_count": 16,
     "metadata": {},
     "output_type": "execute_result"
    }
   ],
   "source": [
    "10 % 2"
   ]
  },
  {
   "cell_type": "code",
   "execution_count": 20,
   "metadata": {},
   "outputs": [
    {
     "name": "stdout",
     "output_type": "stream",
     "text": [
      "1 es impar\n",
      "2\n",
      "3 es impar\n",
      "4\n",
      "5 es impar\n",
      "6\n",
      "7 es impar\n",
      "8\n",
      "9 es impar\n",
      "10\n",
      "11 es impar\n",
      "12\n",
      "13 es impar\n",
      "14\n",
      "15 es impar\n",
      "16\n",
      "17 es impar\n",
      "18\n",
      "19 es impar\n",
      "20\n"
     ]
    }
   ],
   "source": [
    "for k in 1:20\n",
    "    if k%2 == 0\n",
    "        println(k)\n",
    "    else\n",
    "        println(\"$k es impar\")\n",
    "    end\n",
    "end"
   ]
  },
  {
   "cell_type": "markdown",
   "metadata": {},
   "source": [
    "## `break` y `continue`\n",
    "\n",
    "A veces, al hacer una iteración, queremos saltarnos ciertos valores. En este caso `continue` es muy útil:"
   ]
  },
  {
   "cell_type": "code",
   "execution_count": 23,
   "metadata": {},
   "outputs": [
    {
     "name": "stdout",
     "output_type": "stream",
     "text": [
      "Iteración número: 1\n",
      "1 es impar\n",
      "Iteración número: 2\n",
      "Iteración número: 3\n",
      "3 es impar\n",
      "Iteración número: 4\n",
      "Iteración número: 5\n",
      "5 es impar\n",
      "Iteración número: 6\n",
      "Iteración número: 7\n",
      "7 es impar\n",
      "Iteración número: 8\n",
      "Iteración número: 9\n",
      "9 es impar\n",
      "Iteración número: 10\n",
      "Iteración número: 11\n",
      "11 es impar\n",
      "Iteración número: 12\n",
      "Iteración número: 13\n",
      "13 es impar\n",
      "Iteración número: 14\n",
      "Iteración número: 15\n",
      "15 es impar\n",
      "Iteración número: 16\n",
      "Iteración número: 17\n",
      "17 es impar\n",
      "Iteración número: 18\n",
      "Iteración número: 19\n",
      "19 es impar\n",
      "Iteración número: 20\n"
     ]
    }
   ],
   "source": [
    "# Queremos imprimir impares\n",
    "for i in 1:20\n",
    "    println(\"Iteración número: $i\")\n",
    "    if i % 2 == 0\n",
    "        continue\n",
    "    end\n",
    "    println(\"$i es impar\")\n",
    "end"
   ]
  },
  {
   "cell_type": "markdown",
   "metadata": {},
   "source": [
    "Otras tantas veces, no estarás seguro cuando terminar un loop o iteración. Aquí es útil `break`:"
   ]
  },
  {
   "cell_type": "markdown",
   "metadata": {},
   "source": [
    "Supongamos que queremos que nuestro repita todo lo que un usario escriba, hasta que escriba \"adiós\""
   ]
  },
  {
   "cell_type": "code",
   "execution_count": 26,
   "metadata": {},
   "outputs": [
    {
     "name": "stdout",
     "output_type": "stream",
     "text": [
      "stdin> hola\n",
      "hola :P\n",
      "stdin> mundo\n",
      "mundo :P\n",
      "stdin> mario\n",
      "mario :P\n",
      "stdin> adiós\n",
      "Nos vemos\n"
     ]
    }
   ],
   "source": [
    "while true\n",
    "    line = readline()\n",
    "    if line == \"adiós\"\n",
    "        break\n",
    "    end\n",
    "    println(line, \" :P\")\n",
    "end\n",
    "println(\"Nos vemos\")"
   ]
  },
  {
   "cell_type": "markdown",
   "metadata": {},
   "source": [
    "### Ejercicio\n",
    "\n",
    "Escriba una función que nos diga si un número es primo o no."
   ]
  },
  {
   "cell_type": "code",
   "execution_count": null,
   "metadata": {},
   "outputs": [],
   "source": [
    "function primos(n)\n",
    "    for i in n-1:-1_\n",
    "    if n%i\n",
    "end"
   ]
  },
  {
   "cell_type": "markdown",
   "metadata": {},
   "source": [
    "## Ejercicio\n",
    "\n",
    "Escriba una función recursiva que calcule los primeros `n` términos de la suceción de Fibonacci.\n",
    "\n",
    "La [sucesión de Fibonacci](https://es.wikipedia.org/wiki/Sucesi%C3%B3n_de_Fibonacci) es la serie infinita de números naturales\n",
    "\n",
    "> $0, 1, 1, 2, 3, 5, 8, 13, 21, ...$\n",
    "\n",
    "De manera recursiva se define como\n",
    "\n",
    "> $f_0 = 0$, $f_1= 1$  \n",
    ">\n",
    "> y  para $n>1$\n",
    ">\n",
    "> $f_n = f_{n-1}+f_{n-2}$.\n"
   ]
  },
  {
   "cell_type": "markdown",
   "metadata": {},
   "source": [
    "### Ejercicio\n",
    "Escriba una función que imprima los primeros `n` números primos"
   ]
  },
  {
   "cell_type": "markdown",
   "metadata": {},
   "source": []
  }
 ],
 "metadata": {
  "@webio": {
   "lastCommId": "d39281d580ea42ebae6bebb5e866e1a4",
   "lastKernelId": "968413b2-5b93-46b4-9384-3c6b017a1f89"
  },
  "kernelspec": {
   "display_name": "Julia 1.0.2",
   "language": "julia",
   "name": "julia-1.0"
  },
  "language_info": {
   "file_extension": ".jl",
   "mimetype": "application/julia",
   "name": "julia",
   "version": "1.0.2"
  }
 },
 "nbformat": 4,
 "nbformat_minor": 2
}
