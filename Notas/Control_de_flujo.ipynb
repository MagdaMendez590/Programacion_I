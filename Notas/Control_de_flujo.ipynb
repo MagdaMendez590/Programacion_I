{
 "cells": [
  {
   "cell_type": "markdown",
   "metadata": {},
   "source": [
    "# Control de flujo\n",
    "Muchas veces es indispensable cambiar el flujo de ejecución de un script. Para eso necesitamos de distintas herramientas (métodos) que hagan posible saltar líneas de comando o repetirlas. Empezemos con los condicionales.\n",
    "\n",
    "## Expresiones Booleanas\n",
    "Las expresiones booleanas son operadores que nos sirven para comparar expresiones. Estas regresan valores *Booleanos*, `true` o `false`.\n",
    "\n",
    "* ==                \n",
    "* \\>= ($\\ge$ = \\ge + `tab`)\n",
    "* <= ($\\le$ = \\le + `tab`)\n",
    "* != \n"
   ]
  },
  {
   "cell_type": "code",
   "execution_count": 8,
   "metadata": {},
   "outputs": [
    {
     "data": {
      "text/plain": [
       "true"
      ]
     },
     "execution_count": 8,
     "metadata": {},
     "output_type": "execute_result"
    }
   ],
   "source": [
    " 1 == 1.0"
   ]
  },
  {
   "cell_type": "code",
   "execution_count": null,
   "metadata": {},
   "outputs": [],
   "source": [
    "5 != 6 "
   ]
  },
  {
   "cell_type": "code",
   "execution_count": 1,
   "metadata": {},
   "outputs": [
    {
     "data": {
      "text/plain": [
       "false"
      ]
     },
     "execution_count": 1,
     "metadata": {},
     "output_type": "execute_result"
    }
   ],
   "source": [
    "5 <= 6 && 5 == 6"
   ]
  },
  {
   "cell_type": "markdown",
   "metadata": {},
   "source": [
    "### Ejercicio:\n",
    "* ¿Qué tipo de valores arrojan las expresiones anteriores? \n",
    "* ¿Cuál es su expresión en bits?"
   ]
  },
  {
   "cell_type": "code",
   "execution_count": 5,
   "metadata": {},
   "outputs": [
    {
     "data": {
      "text/plain": [
       "Bool"
      ]
     },
     "execution_count": 5,
     "metadata": {},
     "output_type": "execute_result"
    }
   ],
   "source": [
    "typeof(5 != 6)"
   ]
  },
  {
   "cell_type": "code",
   "execution_count": 7,
   "metadata": {},
   "outputs": [
    {
     "data": {
      "text/plain": [
       "\"00000001\""
      ]
     },
     "execution_count": 7,
     "metadata": {},
     "output_type": "execute_result"
    }
   ],
   "source": [
    "bitstring(5 <= 6 && 5 != 6)"
   ]
  },
  {
   "cell_type": "markdown",
   "metadata": {},
   "source": [
    "## Operadores `&&` , `||` y `!`\n",
    "\n",
    "Cualquier lenguaje de programación está basado en la [lógica Booleana](https://es.wikipedia.org/wiki/%C3%81lgebra_de_Boole). \n",
    "\n",
    "Los operadores lógicos son `&&` ( **y**), `||`( **o** ), `!`( **no** )."
   ]
  },
  {
   "cell_type": "code",
   "execution_count": 11,
   "metadata": {},
   "outputs": [
    {
     "data": {
      "text/plain": [
       "false"
      ]
     },
     "execution_count": 11,
     "metadata": {},
     "output_type": "execute_result"
    }
   ],
   "source": [
    "x = 12\n",
    "x < 0 && x< 10"
   ]
  },
  {
   "cell_type": "code",
   "execution_count": 10,
   "metadata": {},
   "outputs": [
    {
     "data": {
      "text/plain": [
       "true"
      ]
     },
     "execution_count": 10,
     "metadata": {},
     "output_type": "execute_result"
    }
   ],
   "source": [
    "x > 0 || x< 10"
   ]
  },
  {
   "cell_type": "code",
   "execution_count": null,
   "metadata": {},
   "outputs": [],
   "source": []
  },
  {
   "cell_type": "code",
   "execution_count": 13,
   "metadata": {},
   "outputs": [
    {
     "data": {
      "text/plain": [
       "true"
      ]
     },
     "execution_count": 13,
     "metadata": {},
     "output_type": "execute_result"
    }
   ],
   "source": [
    "y = 10\n",
    "!(x < y)"
   ]
  },
  {
   "cell_type": "code",
   "execution_count": 15,
   "metadata": {},
   "outputs": [
    {
     "data": {
      "text/plain": [
       "true"
      ]
     },
     "execution_count": 15,
     "metadata": {},
     "output_type": "execute_result"
    }
   ],
   "source": [
    "x = 9\n",
    "x < y"
   ]
  },
  {
   "cell_type": "code",
   "execution_count": 16,
   "metadata": {},
   "outputs": [
    {
     "data": {
      "text/plain": [
       "9"
      ]
     },
     "execution_count": 16,
     "metadata": {},
     "output_type": "execute_result"
    }
   ],
   "source": [
    "x"
   ]
  },
  {
   "cell_type": "markdown",
   "metadata": {},
   "source": [
    "# Condicionales: `if-elseif-else`\n",
    "\n",
    "La estructura básica de un condicional `if` tiene la forma:\n",
    "```julia\n",
    "if <condición>\n",
    "    <declaraciones>\n",
    "elseif <condición>\n",
    "    <declaraciones>\n",
    "else\n",
    "    <declaraciones>\n",
    "end \n",
    "```\n",
    "Si las condiciones son verdaderas (`true`) las declaraciones que están inmediatamente abajo se ejecutan. Al finalizar con estas declaraciones el intérprete sigue con su trabajo después de la línea `end`.\n",
    "\n",
    "**Las declaraciones `elseif` y `else` son opcionales**."
   ]
  },
  {
   "cell_type": "code",
   "execution_count": 19,
   "metadata": {},
   "outputs": [
    {
     "name": "stdout",
     "output_type": "stream",
     "text": [
      "X es false\n"
     ]
    }
   ],
   "source": [
    "x = false\n",
    "\n",
    "if x\n",
    "   println(\"X es \", x) \n",
    "else\n",
    "    println(\"X es $x\")\n",
    "end"
   ]
  },
  {
   "cell_type": "code",
   "execution_count": 23,
   "metadata": {},
   "outputs": [
    {
     "name": "stdout",
     "output_type": "stream",
     "text": [
      "x es menor a y\n"
     ]
    }
   ],
   "source": [
    "x = 4\n",
    "y = 4.01\n",
    "if x > y \n",
    "    println(\"x es mayor a y\")\n",
    "elseif x < y\n",
    "    println(\"x es menor a y\")\n",
    "else\n",
    "    println(\"Son iguales\")\n",
    "end"
   ]
  },
  {
   "cell_type": "markdown",
   "metadata": {},
   "source": [
    "Cada vez que querramos comparar dos número tendremos que cambiar el valor de las variables (_x_, _y_) y escribir las 7 líneas que conforman el condicional. ¡Qué lata!\n",
    "\n",
    "### Ejercicio:\n",
    "\n",
    "* Defina una función que acepte dos argumentos y los compare. La función debe imprimir a pantalla cuál es el mayor o si son iguales."
   ]
  },
  {
   "cell_type": "code",
   "execution_count": 32,
   "metadata": {},
   "outputs": [
    {
     "data": {
      "text/plain": [
       "comparar (generic function with 1 method)"
      ]
     },
     "execution_count": 32,
     "metadata": {},
     "output_type": "execute_result"
    }
   ],
   "source": [
    "function comparar(x,y)\n",
    "    if x > y \n",
    "        println(\"$x es mayor a $y\")\n",
    "    elseif x < y\n",
    "        println(\"$x es menor a $y\")\n",
    "    else\n",
    "        println(\"Son iguales\")\n",
    "    end\n",
    "end"
   ]
  },
  {
   "cell_type": "code",
   "execution_count": 33,
   "metadata": {},
   "outputs": [
    {
     "name": "stdout",
     "output_type": "stream",
     "text": [
      "7 es menor a 10\n"
     ]
    }
   ],
   "source": [
    "comparar(7, 10)"
   ]
  },
  {
   "cell_type": "markdown",
   "metadata": {},
   "source": [
    "## Condicionales anidados\n",
    "\n",
    "Muchas veces será necesario escribir condicionales anidados como el siguiente:"
   ]
  },
  {
   "cell_type": "code",
   "execution_count": 34,
   "metadata": {},
   "outputs": [
    {
     "name": "stdout",
     "output_type": "stream",
     "text": [
      "x es menor\n"
     ]
    }
   ],
   "source": [
    "x = -10\n",
    "y = 8\n",
    "if x == y \n",
    "    println(\"son iguales\")\n",
    "else\n",
    "    if x > y \n",
    "        println(\"x es mayor\")\n",
    "    else\n",
    "        println(\"x es menor\")\n",
    "    end\n",
    "end"
   ]
  },
  {
   "cell_type": "markdown",
   "metadata": {},
   "source": [
    "La celda anterior hace exactamente lo mismo que el ejemplo previo. La diferencia es que puede ser un poco más difícil de leer. Intentemos mantener nuestros códigos lo más claros posibles."
   ]
  },
  {
   "cell_type": "markdown",
   "metadata": {},
   "source": [
    "### Ejercicio:\n",
    "\n",
    "Escriban una función que acepte tres argumentos, reales, y nos diga si es posible construir un triángulo.\n",
    "\n",
    "**Condición**: Tenemos un triángulo degenerado si la suma de dos de sus argumentos es igual al tercero. Si la suma de cualquiera dos argumentos es menor al tercero, se puede construir un triángulo."
   ]
  },
  {
   "cell_type": "code",
   "execution_count": 5,
   "metadata": {},
   "outputs": [
    {
     "name": "stdout",
     "output_type": "stream",
     "text": [
      "Sí se puede\n",
      "Sí se puede\n",
      "No se puede\n"
     ]
    }
   ],
   "source": [
    "function es_triangulo(a,b,c)\n",
    "    if a+b >=c \n",
    "        \n",
    "        if b+c >=a\n",
    "            \n",
    "            if c + a >=b\n",
    "                println(\"Sí se puede\")\n",
    "            \n",
    "            else\n",
    "                println(\"No se puede\")\n",
    "            end\n",
    "        else\n",
    "            println(\"No se puede\")\n",
    "        end\n",
    "    else\n",
    "        println(\"No se puede\")\n",
    "    end\n",
    "end\n",
    "\n",
    "es_triangulo(1,2,3)\n",
    "\n",
    "es_triangulo(1,4,3)\n",
    "\n",
    "es_triangulo(10,2,15)"
   ]
  },
  {
   "cell_type": "code",
   "execution_count": 68,
   "metadata": {},
   "outputs": [
    {
     "name": "stdout",
     "output_type": "stream",
     "text": [
      "true\n",
      "false\n",
      "false\n",
      "Es degenerado\n",
      "false\n",
      "false\n",
      "true\n",
      "Es degenerado\n",
      "false\n",
      "false\n",
      "false\n",
      "Sí se puede\n"
     ]
    }
   ],
   "source": [
    "function es_triangulo2(a,b,c)\n",
    "    if a + b > c && b+c > a && c+a > b\n",
    "        println(\"Sí se puede\")\n",
    "    elseif a + b == c || b+c == a || c+a == b\n",
    "        println(\"Es degenerado\")\n",
    "    else\n",
    "        println(\"No se puede\")\n",
    "    end\n",
    "end\n",
    "es_triangulo2(1,2,3)\n",
    "\n",
    "es_triangulo2(1,4,3)\n",
    "\n",
    "es_triangulo2(3,4,5)"
   ]
  },
  {
   "cell_type": "code",
   "execution_count": 69,
   "metadata": {},
   "outputs": [
    {
     "name": "stdout",
     "output_type": "stream",
     "text": [
      "true\n",
      "true\n",
      "false\n",
      "No se puede\n"
     ]
    }
   ],
   "source": [
    "es_triangulo2(7,16,8)"
   ]
  },
  {
   "cell_type": "markdown",
   "metadata": {},
   "source": [
    "## Pidiendo información al usuario\n",
    "\n",
    "Si queremos interactuar con el usuario podemos usar el comando `readline()`"
   ]
  },
  {
   "cell_type": "code",
   "execution_count": 1,
   "metadata": {},
   "outputs": [
    {
     "name": "stdout",
     "output_type": "stream",
     "text": [
      "Cuál es tu nombre?\n",
      "stdin> 1234\n"
     ]
    },
    {
     "data": {
      "text/plain": [
       "\"1234\""
      ]
     },
     "execution_count": 1,
     "metadata": {},
     "output_type": "execute_result"
    }
   ],
   "source": [
    "println(\"Cuál es tu nombre?\"); nombre=readline()"
   ]
  },
  {
   "cell_type": "code",
   "execution_count": 2,
   "metadata": {},
   "outputs": [
    {
     "data": {
      "text/plain": [
       "String"
      ]
     },
     "execution_count": 2,
     "metadata": {},
     "output_type": "execute_result"
    }
   ],
   "source": [
    "typeof(nombre)\n",
    "    "
   ]
  },
  {
   "cell_type": "markdown",
   "metadata": {},
   "source": [
    "Todo lo que el usuario introduce será tomado como una cadena. Si queremos cambiar de tipo de la variable introducida (si quisieramos interactuar con números u otro tipo de variable), necesitamos usar la función `parse`"
   ]
  },
  {
   "cell_type": "code",
   "execution_count": 75,
   "metadata": {},
   "outputs": [
    {
     "name": "stdout",
     "output_type": "stream",
     "text": [
      "search: \u001b[0m\u001b[1mp\u001b[22m\u001b[0m\u001b[1ma\u001b[22m\u001b[0m\u001b[1mr\u001b[22m\u001b[0m\u001b[1ms\u001b[22m\u001b[0m\u001b[1me\u001b[22m try\u001b[0m\u001b[1mp\u001b[22m\u001b[0m\u001b[1ma\u001b[22m\u001b[0m\u001b[1mr\u001b[22m\u001b[0m\u001b[1ms\u001b[22m\u001b[0m\u001b[1me\u001b[22m \u001b[0m\u001b[1mp\u001b[22m\u001b[0m\u001b[1ma\u001b[22m\u001b[0m\u001b[1mr\u001b[22mtial\u001b[0m\u001b[1ms\u001b[22mortp\u001b[0m\u001b[1me\u001b[22mrm \u001b[0m\u001b[1mp\u001b[22m\u001b[0m\u001b[1ma\u001b[22m\u001b[0m\u001b[1mr\u001b[22mtial\u001b[0m\u001b[1ms\u001b[22mortp\u001b[0m\u001b[1me\u001b[22mrm! \u001b[0m\u001b[1mp\u001b[22m\u001b[0m\u001b[1ma\u001b[22mi\u001b[0m\u001b[1mr\u001b[22m\u001b[0m\u001b[1ms\u001b[22m ski\u001b[0m\u001b[1mp\u001b[22mch\u001b[0m\u001b[1ma\u001b[22m\u001b[0m\u001b[1mr\u001b[22m\u001b[0m\u001b[1ms\u001b[22m\n",
      "\n"
     ]
    },
    {
     "data": {
      "text/latex": [
       "\\begin{verbatim}\n",
       "parse(type, str; base)\n",
       "\\end{verbatim}\n",
       "Parse a string as a number. For \\texttt{Integer} types, a base can be specified (the default is 10). For floating-point types, the string is parsed as a decimal floating-point number.  \\texttt{Complex} types are parsed from decimal strings of the form \\texttt{\"R±Iim\"} as a \\texttt{Complex(R,I)} of the requested type; \\texttt{\"i\"} or \\texttt{\"j\"} can also be used instead of \\texttt{\"im\"}, and \\texttt{\"R\"} or \\texttt{\"Iim\"} are also permitted. If the string does not contain a valid number, an error is raised.\n",
       "\n",
       "\\section{Examples}\n",
       "\\begin{verbatim}\n",
       "julia> parse(Int, \"1234\")\n",
       "1234\n",
       "\n",
       "julia> parse(Int, \"1234\", base = 5)\n",
       "194\n",
       "\n",
       "julia> parse(Int, \"afc\", base = 16)\n",
       "2812\n",
       "\n",
       "julia> parse(Float64, \"1.2e-3\")\n",
       "0.0012\n",
       "\n",
       "julia> parse(Complex{Float64}, \"3.2e-1 + 4.5im\")\n",
       "0.32 + 4.5im\n",
       "\\end{verbatim}\n"
      ],
      "text/markdown": [
       "```\n",
       "parse(type, str; base)\n",
       "```\n",
       "\n",
       "Parse a string as a number. For `Integer` types, a base can be specified (the default is 10). For floating-point types, the string is parsed as a decimal floating-point number.  `Complex` types are parsed from decimal strings of the form `\"R±Iim\"` as a `Complex(R,I)` of the requested type; `\"i\"` or `\"j\"` can also be used instead of `\"im\"`, and `\"R\"` or `\"Iim\"` are also permitted. If the string does not contain a valid number, an error is raised.\n",
       "\n",
       "# Examples\n",
       "\n",
       "```jldoctest\n",
       "julia> parse(Int, \"1234\")\n",
       "1234\n",
       "\n",
       "julia> parse(Int, \"1234\", base = 5)\n",
       "194\n",
       "\n",
       "julia> parse(Int, \"afc\", base = 16)\n",
       "2812\n",
       "\n",
       "julia> parse(Float64, \"1.2e-3\")\n",
       "0.0012\n",
       "\n",
       "julia> parse(Complex{Float64}, \"3.2e-1 + 4.5im\")\n",
       "0.32 + 4.5im\n",
       "```\n"
      ],
      "text/plain": [
       "\u001b[36m  parse(type, str; base)\u001b[39m\n",
       "\n",
       "  Parse a string as a number. For \u001b[36mInteger\u001b[39m types, a base can be specified (the\n",
       "  default is 10). For floating-point types, the string is parsed as a decimal\n",
       "  floating-point number. \u001b[36mComplex\u001b[39m types are parsed from decimal strings of the\n",
       "  form \u001b[36m\"R±Iim\"\u001b[39m as a \u001b[36mComplex(R,I)\u001b[39m of the requested type; \u001b[36m\"i\"\u001b[39m or \u001b[36m\"j\"\u001b[39m can also be\n",
       "  used instead of \u001b[36m\"im\"\u001b[39m, and \u001b[36m\"R\"\u001b[39m or \u001b[36m\"Iim\"\u001b[39m are also permitted. If the string\n",
       "  does not contain a valid number, an error is raised.\n",
       "\n",
       "\u001b[1m  Examples\u001b[22m\n",
       "\u001b[1m  ≡≡≡≡≡≡≡≡≡≡\u001b[22m\n",
       "\n",
       "\u001b[36m  julia> parse(Int, \"1234\")\u001b[39m\n",
       "\u001b[36m  1234\u001b[39m\n",
       "\u001b[36m  \u001b[39m\n",
       "\u001b[36m  julia> parse(Int, \"1234\", base = 5)\u001b[39m\n",
       "\u001b[36m  194\u001b[39m\n",
       "\u001b[36m  \u001b[39m\n",
       "\u001b[36m  julia> parse(Int, \"afc\", base = 16)\u001b[39m\n",
       "\u001b[36m  2812\u001b[39m\n",
       "\u001b[36m  \u001b[39m\n",
       "\u001b[36m  julia> parse(Float64, \"1.2e-3\")\u001b[39m\n",
       "\u001b[36m  0.0012\u001b[39m\n",
       "\u001b[36m  \u001b[39m\n",
       "\u001b[36m  julia> parse(Complex{Float64}, \"3.2e-1 + 4.5im\")\u001b[39m\n",
       "\u001b[36m  0.32 + 4.5im\u001b[39m"
      ]
     },
     "execution_count": 75,
     "metadata": {},
     "output_type": "execute_result"
    }
   ],
   "source": [
    "?parse"
   ]
  },
  {
   "cell_type": "code",
   "execution_count": 78,
   "metadata": {},
   "outputs": [
    {
     "name": "stdout",
     "output_type": "stream",
     "text": [
      "Dame un número:\n",
      "stdin> 10.9\n"
     ]
    },
    {
     "data": {
      "text/plain": [
       "10.9"
      ]
     },
     "execution_count": 78,
     "metadata": {},
     "output_type": "execute_result"
    }
   ],
   "source": [
    "println(\"Dame un número:\")\n",
    "numero= parse(Float64,readline())"
   ]
  },
  {
   "cell_type": "code",
   "execution_count": 79,
   "metadata": {},
   "outputs": [
    {
     "data": {
      "text/plain": [
       "Float64"
      ]
     },
     "execution_count": 79,
     "metadata": {},
     "output_type": "execute_result"
    }
   ],
   "source": [
    "typeof(numero)"
   ]
  },
  {
   "cell_type": "markdown",
   "metadata": {},
   "source": [
    "### Ejercicio\n",
    "\n",
    "* Reescriba la función `es_triangulo()` de tal manera que las longitudes de cada lado sea introducida por el usuario de manera interactiva."
   ]
  },
  {
   "cell_type": "code",
   "execution_count": 80,
   "metadata": {},
   "outputs": [
    {
     "ename": "LoadError",
     "evalue": "syntax: unexpected \"end\"",
     "output_type": "error",
     "traceback": [
      "syntax: unexpected \"end\"",
      ""
     ]
    }
   ],
   "source": [
    "function triangulo()\n",
    "    a = \n",
    "    b = \n",
    "    c = \n",
    "    \n",
    "    ###cuerpo de condiconales\n",
    "    \n",
    "end\n",
    "\n",
    "triangulo()"
   ]
  },
  {
   "cell_type": "markdown",
   "metadata": {},
   "source": [
    "## Recursión \n",
    "\n",
    "Antes habíamos dicho que una función puede llamar a otra función, incluso si es ella misma. Esto es algo que puede ser un tanto mágico. "
   ]
  },
  {
   "cell_type": "code",
   "execution_count": 1,
   "metadata": {},
   "outputs": [
    {
     "data": {
      "text/plain": [
       "cuenta_regresiva (generic function with 1 method)"
      ]
     },
     "execution_count": 1,
     "metadata": {},
     "output_type": "execute_result"
    }
   ],
   "source": [
    "function cuenta_regresiva(n)\n",
    "    if n <= 0 \n",
    "        println(\"¡Ahí voy!\")\n",
    "    else\n",
    "        print(n, \" \")\n",
    "        cuenta_regresiva(n-1)\n",
    "    end\n",
    "end\n",
    "\n"
   ]
  },
  {
   "cell_type": "code",
   "execution_count": 2,
   "metadata": {},
   "outputs": [
    {
     "name": "stdout",
     "output_type": "stream",
     "text": [
      "9 7 5 3 1 ¡Ahí voy!\n"
     ]
    }
   ],
   "source": [
    "cuenta_regresiva(9)"
   ]
  },
  {
   "cell_type": "markdown",
   "metadata": {},
   "source": [
    "Esta característica de la programación es muy útil en el contexto de las matemáticas, vamos a poder construir series y funciones.\n",
    "\n",
    "### Ejercicio:\n",
    "* Escriba una función que calcule el factorial de un número _n_ arbitrario.\n",
    "\n"
   ]
  },
  {
   "cell_type": "code",
   "execution_count": 2,
   "metadata": {},
   "outputs": [
    {
     "data": {
      "text/plain": [
       "mi_factorial (generic function with 1 method)"
      ]
     },
     "execution_count": 2,
     "metadata": {},
     "output_type": "execute_result"
    }
   ],
   "source": [
    "function mi_factorial(n)\n",
    "    if n <= 0\n",
    "        return 1\n",
    "    else        \n",
    "        n_1 = mi_factorial(n-1)\n",
    "        resultado = n*n_1\n",
    "    end\n",
    "    return resultado\n",
    "end\n"
   ]
  },
  {
   "cell_type": "code",
   "execution_count": 3,
   "metadata": {},
   "outputs": [
    {
     "data": {
      "text/plain": [
       "3628800"
      ]
     },
     "execution_count": 3,
     "metadata": {},
     "output_type": "execute_result"
    }
   ],
   "source": [
    "mi_factorial(10)"
   ]
  },
  {
   "cell_type": "code",
   "execution_count": 5,
   "metadata": {},
   "outputs": [
    {
     "name": "stdout",
     "output_type": "stream",
     "text": [
      "3628800\n"
     ]
    }
   ],
   "source": [
    "f=1\n",
    "for i in 1:10\n",
    "    f*=i\n",
    "end\n",
    "println(f)"
   ]
  },
  {
   "cell_type": "markdown",
   "metadata": {},
   "source": [
    "Vamos a intentar visualizar el proceso de nuestra función recursiva:"
   ]
  },
  {
   "cell_type": "code",
   "execution_count": 1,
   "metadata": {},
   "outputs": [
    {
     "name": "stdout",
     "output_type": "stream",
     "text": [
      "                    mi_factorial(5)\n",
      "                mi_factorial(4)\n",
      "            mi_factorial(3)\n",
      "        mi_factorial(2)\n",
      "    mi_factorial(1)\n",
      "mi_factorial(0)\n",
      "returning 1\n",
      "    returning 1\n",
      "        returning 2\n",
      "            returning 6\n",
      "                returning 24\n",
      "                    returning 120\n"
     ]
    },
    {
     "data": {
      "text/plain": [
       "120"
      ]
     },
     "execution_count": 1,
     "metadata": {},
     "output_type": "execute_result"
    }
   ],
   "source": [
    "function fact(n)\n",
    "    space = \" \" ^ (4 * n)\n",
    "    println(space, \"mi_factorial($n)\")\n",
    "    if n == 0\n",
    "        println(space, \"returning 1\")\n",
    "        return 1\n",
    "    else\n",
    "        recurse = fact(n-1)\n",
    "        result = n * recurse\n",
    "        println(space, \"returning \", result)\n",
    "        return result\n",
    "    end\n",
    "end\n",
    "\n",
    "fact(5)"
   ]
  },
  {
   "cell_type": "code",
   "execution_count": null,
   "metadata": {},
   "outputs": [],
   "source": []
  }
 ],
 "metadata": {
  "@webio": {
   "lastCommId": "99991f23c4e940639256d5e8aaee6e31",
   "lastKernelId": "4cb4cf4f-595b-42d4-b012-235ac1487073"
  },
  "kernelspec": {
   "display_name": "Julia 1.0.2",
   "language": "julia",
   "name": "julia-1.0"
  },
  "language_info": {
   "file_extension": ".jl",
   "mimetype": "application/julia",
   "name": "julia",
   "version": "1.0.2"
  }
 },
 "nbformat": 4,
 "nbformat_minor": 2
}
